{
  "cells": [
    {
      "cell_type": "markdown",
      "metadata": {
        "id": "-5SqZkImrklo"
      },
      "source": [
        "# Lista 1 - Econometria II\n",
        "---"
      ]
    },
    {
      "cell_type": "markdown",
      "metadata": {
        "id": "rF5RnQNIrklx"
      },
      "source": [
        "> Alunos: Henrique Castilho Del'Esposti, Luciana Thomasi, Paola Scheidegger e Renan Rodrigues Torres."
      ]
    },
    {
      "cell_type": "markdown",
      "metadata": {
        "id": "r-s7-GNqrkly"
      },
      "source": [
        "# Questão 1"
      ]
    },
    {
      "cell_type": "markdown",
      "metadata": {
        "id": "N82uuoQHrklz"
      },
      "source": [
        "## a) \n"
      ]
    },
    {
      "cell_type": "markdown",
      "metadata": {
        "id": "2O2BqIkwrkl0"
      },
      "source": [
        "A comparação de médias entre os grupos inicialmente propostos não é adequeda por dois motivos: i) ambos são compostos por indivíduos distintos e com características que podem se manifestar significativamente diferentes do ponto de vista estatístico; ii) como narrado, os indivíduos aprovados no processo seletivo para ingressar nas forças armadas passam por avaliações criteriosas que avaliam características que também estão ou podem estar relacionadas com os salários no futuro, como escolaridade, notas em exames e aptidão física. Desse modo, essa simples comparação desconsidera esses fatores que impactam os salários, além da própria hipótese do impacto do serviço militar nos salários."
      ]
    },
    {
      "cell_type": "markdown",
      "metadata": {
        "id": "JBLIq3BArkl1"
      },
      "source": [
        "## b) "
      ]
    },
    {
      "cell_type": "markdown",
      "metadata": {
        "id": "5HmkDfXJrkl1"
      },
      "source": [
        "O grupo de tratamento ideal seriam os próprios candidatos aprovados para ingressar nas forças armadas. Enquanto isso, um grupo de controle ideal seria composto por indivíduos que possuem características similares em termos de escolaridade, idades, notas dos exames e aptidão física, mas que por algum motivo aleatório nã ingressaram nas forças armadas.\n",
        "\n",
        "Em aplicações práticas, os grupos ideais podem possuir maior flexibilidade e terem as médias de atributos distintas, dado que o que realmente importa é que, no tempo, a variação no grupo de controle antes e depois do programa reflita uma variação no tempo semelhante ao grupo dos tratados em uma hipótese contrafactual, isto é, caso não fossem tratados."
      ]
    },
    {
      "cell_type": "markdown",
      "metadata": {
        "id": "5cWErltbrkl3"
      },
      "source": [
        "## c) "
      ]
    },
    {
      "cell_type": "markdown",
      "metadata": {
        "id": "T_M6Td2Wrkl3"
      },
      "source": [
        "A regressão para o modelo de Diferenças-em-Diferenças a ser estimada seria, seguindo a conveção apresentada nos livros-texto:\n",
        "\n",
        "$$\n",
        "Y_{it} = \\alpha_0 + \\alpha_1educ + \\alpha_2idade + \\alpha_3notas + \\alpha_4saude + \\gamma_1T_i + \\varrho_1dt_t + \\beta_1D_{it} + \\varepsilon_{it}\n",
        "$$\n",
        "\n",
        "- educ: variável para o grau de escolaridade. Sua inclusão justifica-se pelo fato de impor controle sobre os efeitos da educação em relação à variável de interesse Y, o salário, dados os efeitos positivos que o nível educacional pode exercer sobre os salários, ou seja, ao deixarmos de fora, poderíamos estar superestimando o parâmetro de interesse $\\beta_1$.\n",
        "\n",
        "- idade: variável para a idade dos indivíduos analisados. Sua inclusão justifica-se pelo fato de impor controle sobre os efeitos da idade em relação à variável de interesse Y, o salário. Nesse caso, com a maior idade os indivíduos podem adquirir mais experiência no mercado de trabalho, o que poderia influenciar em maiores níveis salariais, isto é, poderíamos estar superestimando o parâmetro de interesse $\\beta_1$ caso não controlássemos para essa variável.\n",
        "\n",
        "- notas: variável para a nota obtida nos exames teóricos para ingressar nas força armadas. Sua inclusão justifica-se pelo fato de impor controle sobre os efeitos das notas em relação à variável de interesse Y, o salário. Isso porque a nota pode refletir parcialmente a capacidade dos indivíduos em ingressarem nas forças armadas, de modo que maiores notas pudessem representar uma maior probabilidade de ingresso nas forças armadas. Sem controlar para as notas, poderíamos estar superestimando o parâmetro de interesse $\\beta_1$ caso não controlássemos para essa variável.\n",
        "\n",
        "- saude: variável binária que assumiria valor unitário para a presença de doenças crônicas que afetam a aptidão física dos indivíduos e zero caso contrário. Sua inclusão justifica-se pelas avaliações físicas dos candidatos ao exame das forças armadas. Sem controlar para esses efeitos, poderíamos estar superestimando o parâmetro de interesse $\\beta_1$ caso não controlássemos para essa variável.\n",
        "\n",
        "- $D_{it}$: interação entre as dummies $T_i$ e $dt$ que identificar a presença de tratamento dos indivíduos e o período pós-intervenção, que assumiria o valor 1 caso o indivíduo da amostra recebesse o tratamento. Nesse caso, a inclusão dessa interação serve para estimar o parâmetro de interesse $\\beta_1$ para capturar o impacto da adesão das forças armadas sobre os salários."
      ]
    },
    {
      "cell_type": "markdown",
      "metadata": {
        "id": "5qFxyxS5rkl5"
      },
      "source": [
        "# Questão 2"
      ]
    },
    {
      "cell_type": "markdown",
      "metadata": {
        "id": "_Oe9wdBFyNrf"
      },
      "source": [
        "## a) "
      ]
    },
    {
      "cell_type": "markdown",
      "metadata": {
        "id": "0dlRzhp3yQnA"
      },
      "source": [
        "Verdadeiro. Dado que temos variáveis explicativas exógenas, isto é, sem estarem correlacionadas com o termo do erro, basta termos uma amostras significativamente grande para que o valor estimado do parâmetro seja convergente com o seu valor na população. "
      ]
    },
    {
      "cell_type": "markdown",
      "metadata": {
        "id": "q3yVA-oYzHQe"
      },
      "source": [
        "## b) "
      ]
    },
    {
      "cell_type": "markdown",
      "metadata": {
        "id": "OuOu2ertzJtZ"
      },
      "source": [
        "Falso. Com a presença de multicolinearidade, temos que os erros padrões dos nossos estimadores tendem a ser consideravelmente elevados, o que inviabiliza os testes de hipótese e a inferência, mas não implicam na presença de viés em relação aos estimadores. "
      ]
    },
    {
      "cell_type": "markdown",
      "metadata": {
        "id": "ont4uQRa0eN9"
      },
      "source": [
        "## c) "
      ]
    },
    {
      "cell_type": "markdown",
      "metadata": {
        "id": "l3xPeJYG0gJj"
      },
      "source": [
        "Falso. Por estar relacionada com a variância dos erros, a hipótese de homoscedasticidade apenas viabiliza os testes de hipótese e a inferência sobre a significância dos parâmetros.  "
      ]
    },
    {
      "cell_type": "markdown",
      "metadata": {
        "id": "EqomDDTg1Pog"
      },
      "source": [
        "# Questão 3)"
      ]
    },
    {
      "cell_type": "markdown",
      "metadata": {
        "id": "j9a3Dj_a1TVB"
      },
      "source": [
        "## a) "
      ]
    },
    {
      "cell_type": "markdown",
      "metadata": {
        "id": "4qyXtOlz1jxh"
      },
      "source": [
        "Substituindo $y_1$ em $y_2$:\n",
        "\n",
        "$$\n",
        "y_2 = \\gamma_0 + \\gamma_1(\\phi_0 + \\phi_1y_2 + \\phi_2x_1 + \\phi_3x_2 + \\varepsilon) + \\gamma_2x_1 + \\gamma_3x_3 + \\epsilon\n",
        "$$\n",
        "\n",
        "Aplicando a distributiva, retirando os interceptos para didática e manipulando algebricamente:\n",
        "\n",
        "$$\n",
        "(1-\\gamma_1\\phi_1)y_2 = \\gamma_1\\phi_2x_1 + \\gamma_1\\phi_3x_2 + \\gamma_1\\varepsilon + \\gamma_2x_1 + \\gamma_3x_3 + \\epsilon\n",
        "$$ \n",
        "\n",
        "$$\n",
        "y_2 = \\frac{\\gamma_1\\phi_2x_1}{(1-\\gamma_1\\phi_1)} + \\frac{\\gamma_1\\phi_3x_2}{(1-\\gamma_1\\phi_1)} + \\frac{\\gamma_2x_1}{(1-\\gamma_1\\phi_1)} + \\frac{\\gamma_3x_3}{(1-\\gamma_1\\phi_1)} + \\frac{\\gamma_1\\varepsilon + \\epsilon}{(1-\\gamma_1\\phi_1)}\n",
        "$$\n",
        "\n",
        "Com $\\gamma_1\\phi_1 \\neq 0$ e $π_{12} = \\frac{\\gamma_1\\phi_2}{(1-\\gamma_1\\phi_1)} + \\frac{\\gamma_2x_1}{(1-\\gamma_1\\phi_1)}$, $π_{13} = \\frac{\\gamma_1\\phi_3}{(1-\\gamma_1\\phi_1)}$, $\\pi_3 = \\frac{\\gamma_3}{(1-\\gamma_1\\phi_1)}$ e $v_2 = \\frac{\\gamma_1\\varepsilon + \\epsilon}{(1-\\gamma_1\\phi_1)}$, teremos:\n",
        "\n",
        "$$\n",
        "y_2 = \\pi_{12}x_1 + \\pi_{13}x_2 + \\pi_3x_3 + v_2 \n",
        "$$\n"
      ]
    },
    {
      "cell_type": "markdown",
      "metadata": {
        "id": "0Z47hOEv-8Za"
      },
      "source": [
        "## b)"
      ]
    },
    {
      "cell_type": "markdown",
      "metadata": {
        "id": "Tjlr7zjy-_Fm"
      },
      "source": [
        "Não, para que a equação (1) possa ser identificada, é necessário que $\\gamma_3 \\neq 0$, dado que esse coeficiente está ligado a variável $x_3$, que não aparece na equação (1) e se torna o critério para identificá-la. "
      ]
    },
    {
      "cell_type": "markdown",
      "metadata": {
        "id": "U4f0xr1FAciJ"
      },
      "source": [
        "## c)"
      ]
    },
    {
      "cell_type": "markdown",
      "metadata": {
        "id": "CgdIUTm5Aeuy"
      },
      "source": [
        "Sim. Se $\\phi_1 = 0$, a variável $y_2$ não é estatisticamente significante para explicar $y_1$ e, assim, não teremos o problema do viés de simultaneidade. Dessa forma, se $x_1$ e $x_2$ forem exógenas, podemos estimar a equação (1) por MQO. "
      ]
    },
    {
      "cell_type": "markdown",
      "metadata": {
        "id": "TUbfD23nBNke"
      },
      "source": [
        "## d)"
      ]
    },
    {
      "cell_type": "markdown",
      "metadata": {
        "id": "GHBAPnkbBQzz"
      },
      "source": [
        "Sim. Com essas condições, teremos a possibilidade de identificar a equação (1) e também sabemos que estimá-la por MQO será equivocado por causa do viés de simultaneidade. Esse viés opera de forma similar ao problema da endogeneidade, de modo que a variável explicada simultaneamente por outra estará correlacionada com o termo do erro, fazendo com que os estimadores sejam incosistentes."
      ]
    },
    {
      "cell_type": "markdown",
      "metadata": {},
      "source": [
        "# *Observação*"
      ]
    },
    {
      "cell_type": "markdown",
      "metadata": {},
      "source": [
        "Antes de solucionar as questões com os dados, carregamos e convertemos os arquivos .RData para .xlsx (Excel) para trabalhar no Python, com o seguinte código em R:\n",
        "\n",
        "***install.packages(\"writexl\")***\n",
        "\n",
        "***library(\"writexl\")***\n",
        "\n",
        "***write_xlsx(data, \"microcredito_es.xlsx\")***\n",
        "\n",
        "***write_xlsx(dados, \"mercado_peixe.xlsx\")***\n"
      ]
    },
    {
      "cell_type": "markdown",
      "metadata": {
        "id": "Qer8zLBVCjcI"
      },
      "source": [
        "# Questão 4) "
      ]
    },
    {
      "cell_type": "code",
      "execution_count": 48,
      "metadata": {
        "colab": {
          "base_uri": "https://localhost:8080/",
          "height": 304
        },
        "id": "FR4MDbRhrkl6",
        "outputId": "af59f289-88ee-4adb-deb7-da221639cd52"
      },
      "outputs": [],
      "source": [
        "import pandas as pd\n",
        "import numpy as np"
      ]
    },
    {
      "cell_type": "code",
      "execution_count": 49,
      "metadata": {
        "id": "5ThnGe6WITnG"
      },
      "outputs": [
        {
          "data": {
            "text/html": [
              "<div>\n",
              "<style scoped>\n",
              "    .dataframe tbody tr th:only-of-type {\n",
              "        vertical-align: middle;\n",
              "    }\n",
              "\n",
              "    .dataframe tbody tr th {\n",
              "        vertical-align: top;\n",
              "    }\n",
              "\n",
              "    .dataframe thead th {\n",
              "        text-align: right;\n",
              "    }\n",
              "</style>\n",
              "<table border=\"1\" class=\"dataframe\">\n",
              "  <thead>\n",
              "    <tr style=\"text-align: right;\">\n",
              "      <th></th>\n",
              "      <th>municipio</th>\n",
              "      <th>ano</th>\n",
              "      <th>cred_def</th>\n",
              "      <th>FPM_def</th>\n",
              "      <th>royalties_def</th>\n",
              "      <th>pib_def</th>\n",
              "      <th>oper</th>\n",
              "      <th>IFDM_GERAL</th>\n",
              "      <th>esti_receitapropria</th>\n",
              "      <th>pop</th>\n",
              "    </tr>\n",
              "  </thead>\n",
              "  <tbody>\n",
              "    <tr>\n",
              "      <th>0</th>\n",
              "      <td>Afonso Cláudio</td>\n",
              "      <td>2010</td>\n",
              "      <td>2.312024e+06</td>\n",
              "      <td>2.063070e+07</td>\n",
              "      <td>1.555022e+06</td>\n",
              "      <td>4.050472e+08</td>\n",
              "      <td>193</td>\n",
              "      <td>0.712163</td>\n",
              "      <td>3.110818e+06</td>\n",
              "      <td>31091</td>\n",
              "    </tr>\n",
              "    <tr>\n",
              "      <th>1</th>\n",
              "      <td>Afonso Cláudio</td>\n",
              "      <td>2011</td>\n",
              "      <td>2.481674e+06</td>\n",
              "      <td>2.347283e+07</td>\n",
              "      <td>2.908329e+06</td>\n",
              "      <td>4.338577e+08</td>\n",
              "      <td>212</td>\n",
              "      <td>0.737355</td>\n",
              "      <td>3.307073e+06</td>\n",
              "      <td>31004</td>\n",
              "    </tr>\n",
              "    <tr>\n",
              "      <th>2</th>\n",
              "      <td>Afonso Cláudio</td>\n",
              "      <td>2012</td>\n",
              "      <td>2.185640e+06</td>\n",
              "      <td>2.282401e+07</td>\n",
              "      <td>3.398179e+06</td>\n",
              "      <td>4.753806e+08</td>\n",
              "      <td>199</td>\n",
              "      <td>0.748059</td>\n",
              "      <td>3.444694e+06</td>\n",
              "      <td>30919</td>\n",
              "    </tr>\n",
              "    <tr>\n",
              "      <th>3</th>\n",
              "      <td>Afonso Cláudio</td>\n",
              "      <td>2013</td>\n",
              "      <td>1.818640e+06</td>\n",
              "      <td>2.317639e+07</td>\n",
              "      <td>3.507842e+06</td>\n",
              "      <td>4.810916e+08</td>\n",
              "      <td>193</td>\n",
              "      <td>0.736154</td>\n",
              "      <td>3.609006e+06</td>\n",
              "      <td>32551</td>\n",
              "    </tr>\n",
              "    <tr>\n",
              "      <th>4</th>\n",
              "      <td>Afonso Cláudio</td>\n",
              "      <td>2014</td>\n",
              "      <td>1.882815e+06</td>\n",
              "      <td>2.325341e+07</td>\n",
              "      <td>3.816122e+06</td>\n",
              "      <td>4.917057e+08</td>\n",
              "      <td>179</td>\n",
              "      <td>0.708248</td>\n",
              "      <td>4.014598e+06</td>\n",
              "      <td>32502</td>\n",
              "    </tr>\n",
              "    <tr>\n",
              "      <th>...</th>\n",
              "      <td>...</td>\n",
              "      <td>...</td>\n",
              "      <td>...</td>\n",
              "      <td>...</td>\n",
              "      <td>...</td>\n",
              "      <td>...</td>\n",
              "      <td>...</td>\n",
              "      <td>...</td>\n",
              "      <td>...</td>\n",
              "      <td>...</td>\n",
              "    </tr>\n",
              "    <tr>\n",
              "      <th>541</th>\n",
              "      <td>Vitória</td>\n",
              "      <td>2012</td>\n",
              "      <td>5.792563e+06</td>\n",
              "      <td>1.510206e+08</td>\n",
              "      <td>2.555672e+07</td>\n",
              "      <td>3.586177e+10</td>\n",
              "      <td>670</td>\n",
              "      <td>0.851657</td>\n",
              "      <td>7.024802e+08</td>\n",
              "      <td>333162</td>\n",
              "    </tr>\n",
              "    <tr>\n",
              "      <th>542</th>\n",
              "      <td>Vitória</td>\n",
              "      <td>2013</td>\n",
              "      <td>3.946719e+06</td>\n",
              "      <td>1.357670e+08</td>\n",
              "      <td>2.981084e+07</td>\n",
              "      <td>3.097523e+10</td>\n",
              "      <td>418</td>\n",
              "      <td>0.854752</td>\n",
              "      <td>6.534731e+08</td>\n",
              "      <td>348268</td>\n",
              "    </tr>\n",
              "    <tr>\n",
              "      <th>543</th>\n",
              "      <td>Vitória</td>\n",
              "      <td>2014</td>\n",
              "      <td>4.476135e+06</td>\n",
              "      <td>1.411357e+08</td>\n",
              "      <td>3.388286e+07</td>\n",
              "      <td>3.066487e+10</td>\n",
              "      <td>677</td>\n",
              "      <td>0.857995</td>\n",
              "      <td>7.102522e+08</td>\n",
              "      <td>352104</td>\n",
              "    </tr>\n",
              "    <tr>\n",
              "      <th>544</th>\n",
              "      <td>Vitória</td>\n",
              "      <td>2015</td>\n",
              "      <td>3.886005e+06</td>\n",
              "      <td>1.348078e+08</td>\n",
              "      <td>2.217259e+07</td>\n",
              "      <td>2.726150e+10</td>\n",
              "      <td>352</td>\n",
              "      <td>0.831387</td>\n",
              "      <td>6.217284e+08</td>\n",
              "      <td>355875</td>\n",
              "    </tr>\n",
              "    <tr>\n",
              "      <th>545</th>\n",
              "      <td>Vitória</td>\n",
              "      <td>2016</td>\n",
              "      <td>3.148692e+06</td>\n",
              "      <td>1.666094e+08</td>\n",
              "      <td>1.717894e+07</td>\n",
              "      <td>2.415886e+10</td>\n",
              "      <td>250</td>\n",
              "      <td>0.824399</td>\n",
              "      <td>5.725888e+08</td>\n",
              "      <td>359555</td>\n",
              "    </tr>\n",
              "  </tbody>\n",
              "</table>\n",
              "<p>546 rows × 10 columns</p>\n",
              "</div>"
            ],
            "text/plain": [
              "          municipio   ano      cred_def       FPM_def  royalties_def  \\\n",
              "0    Afonso Cláudio  2010  2.312024e+06  2.063070e+07   1.555022e+06   \n",
              "1    Afonso Cláudio  2011  2.481674e+06  2.347283e+07   2.908329e+06   \n",
              "2    Afonso Cláudio  2012  2.185640e+06  2.282401e+07   3.398179e+06   \n",
              "3    Afonso Cláudio  2013  1.818640e+06  2.317639e+07   3.507842e+06   \n",
              "4    Afonso Cláudio  2014  1.882815e+06  2.325341e+07   3.816122e+06   \n",
              "..              ...   ...           ...           ...            ...   \n",
              "541         Vitória  2012  5.792563e+06  1.510206e+08   2.555672e+07   \n",
              "542         Vitória  2013  3.946719e+06  1.357670e+08   2.981084e+07   \n",
              "543         Vitória  2014  4.476135e+06  1.411357e+08   3.388286e+07   \n",
              "544         Vitória  2015  3.886005e+06  1.348078e+08   2.217259e+07   \n",
              "545         Vitória  2016  3.148692e+06  1.666094e+08   1.717894e+07   \n",
              "\n",
              "          pib_def  oper  IFDM_GERAL  esti_receitapropria     pop  \n",
              "0    4.050472e+08   193    0.712163         3.110818e+06   31091  \n",
              "1    4.338577e+08   212    0.737355         3.307073e+06   31004  \n",
              "2    4.753806e+08   199    0.748059         3.444694e+06   30919  \n",
              "3    4.810916e+08   193    0.736154         3.609006e+06   32551  \n",
              "4    4.917057e+08   179    0.708248         4.014598e+06   32502  \n",
              "..            ...   ...         ...                  ...     ...  \n",
              "541  3.586177e+10   670    0.851657         7.024802e+08  333162  \n",
              "542  3.097523e+10   418    0.854752         6.534731e+08  348268  \n",
              "543  3.066487e+10   677    0.857995         7.102522e+08  352104  \n",
              "544  2.726150e+10   352    0.831387         6.217284e+08  355875  \n",
              "545  2.415886e+10   250    0.824399         5.725888e+08  359555  \n",
              "\n",
              "[546 rows x 10 columns]"
            ]
          },
          "execution_count": 49,
          "metadata": {},
          "output_type": "execute_result"
        }
      ],
      "source": [
        "microcred_esdata = pd.read_excel('microcredito_es.xlsx')\n",
        "microcred_esdata"
      ]
    },
    {
      "cell_type": "markdown",
      "metadata": {
        "id": "rO03WSONCrOe"
      },
      "source": [
        "## a)"
      ]
    },
    {
      "cell_type": "code",
      "execution_count": 50,
      "metadata": {},
      "outputs": [
        {
          "data": {
            "text/html": [
              "<div>\n",
              "<style scoped>\n",
              "    .dataframe tbody tr th:only-of-type {\n",
              "        vertical-align: middle;\n",
              "    }\n",
              "\n",
              "    .dataframe tbody tr th {\n",
              "        vertical-align: top;\n",
              "    }\n",
              "\n",
              "    .dataframe thead th {\n",
              "        text-align: right;\n",
              "    }\n",
              "</style>\n",
              "<table border=\"1\" class=\"dataframe\">\n",
              "  <thead>\n",
              "    <tr style=\"text-align: right;\">\n",
              "      <th></th>\n",
              "      <th>cred_def_pc</th>\n",
              "      <th>FPM_def_pc</th>\n",
              "      <th>royalties_def_pc</th>\n",
              "      <th>pib_def_pc</th>\n",
              "      <th>esti_receitapropria_pc</th>\n",
              "    </tr>\n",
              "  </thead>\n",
              "  <tbody>\n",
              "    <tr>\n",
              "      <th>0</th>\n",
              "      <td>74.363115</td>\n",
              "      <td>663.558598</td>\n",
              "      <td>50.015186</td>\n",
              "      <td>13027.795730</td>\n",
              "      <td>100.055246</td>\n",
              "    </tr>\n",
              "    <tr>\n",
              "      <th>1</th>\n",
              "      <td>80.043674</td>\n",
              "      <td>757.090288</td>\n",
              "      <td>93.804959</td>\n",
              "      <td>13993.602539</td>\n",
              "      <td>106.666000</td>\n",
              "    </tr>\n",
              "    <tr>\n",
              "      <th>2</th>\n",
              "      <td>70.689225</td>\n",
              "      <td>738.187337</td>\n",
              "      <td>109.905849</td>\n",
              "      <td>15375.032463</td>\n",
              "      <td>111.410271</td>\n",
              "    </tr>\n",
              "    <tr>\n",
              "      <th>3</th>\n",
              "      <td>55.870489</td>\n",
              "      <td>712.002355</td>\n",
              "      <td>107.764494</td>\n",
              "      <td>14779.626804</td>\n",
              "      <td>110.872349</td>\n",
              "    </tr>\n",
              "    <tr>\n",
              "      <th>4</th>\n",
              "      <td>57.929191</td>\n",
              "      <td>715.445407</td>\n",
              "      <td>117.411904</td>\n",
              "      <td>15128.474183</td>\n",
              "      <td>123.518499</td>\n",
              "    </tr>\n",
              "    <tr>\n",
              "      <th>...</th>\n",
              "      <td>...</td>\n",
              "      <td>...</td>\n",
              "      <td>...</td>\n",
              "      <td>...</td>\n",
              "      <td>...</td>\n",
              "    </tr>\n",
              "    <tr>\n",
              "      <th>541</th>\n",
              "      <td>17.386625</td>\n",
              "      <td>453.294809</td>\n",
              "      <td>76.709601</td>\n",
              "      <td>107640.639000</td>\n",
              "      <td>2108.524305</td>\n",
              "    </tr>\n",
              "    <tr>\n",
              "      <th>542</th>\n",
              "      <td>11.332420</td>\n",
              "      <td>389.834861</td>\n",
              "      <td>85.597408</td>\n",
              "      <td>88940.786253</td>\n",
              "      <td>1876.351285</td>\n",
              "    </tr>\n",
              "    <tr>\n",
              "      <th>543</th>\n",
              "      <td>12.712537</td>\n",
              "      <td>400.835313</td>\n",
              "      <td>96.229701</td>\n",
              "      <td>87090.380672</td>\n",
              "      <td>2017.165855</td>\n",
              "    </tr>\n",
              "    <tr>\n",
              "      <th>544</th>\n",
              "      <td>10.919579</td>\n",
              "      <td>378.806538</td>\n",
              "      <td>62.304438</td>\n",
              "      <td>76604.147478</td>\n",
              "      <td>1747.041558</td>\n",
              "    </tr>\n",
              "    <tr>\n",
              "      <th>545</th>\n",
              "      <td>8.757191</td>\n",
              "      <td>463.376776</td>\n",
              "      <td>47.778335</td>\n",
              "      <td>67191.007749</td>\n",
              "      <td>1592.493070</td>\n",
              "    </tr>\n",
              "  </tbody>\n",
              "</table>\n",
              "<p>546 rows × 5 columns</p>\n",
              "</div>"
            ],
            "text/plain": [
              "     cred_def_pc  FPM_def_pc  royalties_def_pc     pib_def_pc  \\\n",
              "0      74.363115  663.558598         50.015186   13027.795730   \n",
              "1      80.043674  757.090288         93.804959   13993.602539   \n",
              "2      70.689225  738.187337        109.905849   15375.032463   \n",
              "3      55.870489  712.002355        107.764494   14779.626804   \n",
              "4      57.929191  715.445407        117.411904   15128.474183   \n",
              "..           ...         ...               ...            ...   \n",
              "541    17.386625  453.294809         76.709601  107640.639000   \n",
              "542    11.332420  389.834861         85.597408   88940.786253   \n",
              "543    12.712537  400.835313         96.229701   87090.380672   \n",
              "544    10.919579  378.806538         62.304438   76604.147478   \n",
              "545     8.757191  463.376776         47.778335   67191.007749   \n",
              "\n",
              "     esti_receitapropria_pc  \n",
              "0                100.055246  \n",
              "1                106.666000  \n",
              "2                111.410271  \n",
              "3                110.872349  \n",
              "4                123.518499  \n",
              "..                      ...  \n",
              "541             2108.524305  \n",
              "542             1876.351285  \n",
              "543             2017.165855  \n",
              "544             1747.041558  \n",
              "545             1592.493070  \n",
              "\n",
              "[546 rows x 5 columns]"
            ]
          },
          "execution_count": 50,
          "metadata": {},
          "output_type": "execute_result"
        }
      ],
      "source": [
        "microcred_esdata['cred_def_pc'] = microcred_esdata['cred_def'] / microcred_esdata['pop']\n",
        "microcred_esdata['FPM_def_pc'] = microcred_esdata['FPM_def'] / microcred_esdata['pop']\n",
        "microcred_esdata['royalties_def_pc'] = microcred_esdata['royalties_def'] / microcred_esdata['pop']\n",
        "microcred_esdata['pib_def_pc'] = microcred_esdata['pib_def'] / microcred_esdata['pop']\n",
        "microcred_esdata['esti_receitapropria_pc'] = microcred_esdata['esti_receitapropria'] / microcred_esdata['pop']\n",
        "\n",
        "microcred_esdata_pc = microcred_esdata[['cred_def_pc', 'FPM_def_pc', 'royalties_def_pc', 'pib_def_pc', 'esti_receitapropria_pc']]\n",
        "microcred_esdata_pc"
      ]
    },
    {
      "cell_type": "markdown",
      "metadata": {},
      "source": [
        "## b) "
      ]
    },
    {
      "cell_type": "code",
      "execution_count": 51,
      "metadata": {},
      "outputs": [],
      "source": [
        "import statsmodels.formula.api as smf\n",
        "import statsmodels.api as sm"
      ]
    },
    {
      "cell_type": "code",
      "execution_count": 52,
      "metadata": {},
      "outputs": [
        {
          "name": "stdout",
          "output_type": "stream",
          "text": [
            "                            OLS Regression Results                            \n",
            "==============================================================================\n",
            "Dep. Variable:             pib_def_pc   R-squared:                       0.000\n",
            "Model:                            OLS   Adj. R-squared:                 -0.002\n",
            "Method:                 Least Squares   F-statistic:                    0.1294\n",
            "Date:                Fri, 15 Jul 2022   Prob (F-statistic):              0.719\n",
            "Time:                        11:36:14   Log-Likelihood:                -7060.2\n",
            "No. Observations:                 546   AIC:                         1.412e+04\n",
            "Df Residuals:                     544   BIC:                         1.413e+04\n",
            "Df Model:                           1                                         \n",
            "Covariance Type:            nonrobust                                         \n",
            "===============================================================================\n",
            "                  coef    std err          t      P>|t|      [0.025      0.975]\n",
            "-------------------------------------------------------------------------------\n",
            "Intercept    4.052e+04   8146.070      4.974      0.000    2.45e+04    5.65e+04\n",
            "cred_def_pc   -21.7638     60.496     -0.360      0.719    -140.599      97.071\n",
            "==============================================================================\n",
            "Omnibus:                      818.091   Durbin-Watson:                   0.212\n",
            "Prob(Omnibus):                  0.000   Jarque-Bera (JB):           147339.066\n",
            "Skew:                           8.430   Prob(JB):                         0.00\n",
            "Kurtosis:                      81.691   Cond. No.                         256.\n",
            "==============================================================================\n",
            "\n",
            "Notes:\n",
            "[1] Standard Errors assume that the covariance matrix of the errors is correctly specified.\n"
          ]
        }
      ],
      "source": [
        "reg_microes_ols = smf.ols('pib_def_pc ~ cred_def_pc', data = microcred_esdata)\n",
        "results_reg_microes_ols = reg_microes_ols.fit()\n",
        "print(results_reg_microes_ols.summary())"
      ]
    },
    {
      "cell_type": "markdown",
      "metadata": {},
      "source": [
        "O sinal encontrado no coeficiente não está de acordo com o esprado pela teoria econômica: esperava-se que um aumento no microcrédito elevasse a atividade econômica, e não o contrário. \n",
        "\n",
        "Contudo, o parâmetro não é significante ao nível de 5%, dado que temos uma probabilidade de 71,9% (p-valor = 0.719) de errarmos a inferência caso rejeitarmos a hipótese nula de que $\\beta_1 = 0$.\n",
        "\n",
        "Do ponto de vista estatístico, vale lembrar que estimar o modelo por MQO e com apenas o microcrédito como variável explicativa nos leva a obter um estimador viesado por ignorar alguns problemas como a endogeneidade, por outras variáveis do termo do erro estarem relacionadas com a variável de interesse e a própria variável explicativa, e também as especificidades não observadas de cada cidade contemplada pelo programa de microcrédito, que podem influenciar nos impactos dessa política."
      ]
    },
    {
      "cell_type": "markdown",
      "metadata": {},
      "source": [
        "## c) "
      ]
    },
    {
      "cell_type": "markdown",
      "metadata": {},
      "source": [
        "Transformamos a variável *oper* para per capita também, para controlarmos as operações de crédito para o tamanho do município em termos de população."
      ]
    },
    {
      "cell_type": "code",
      "execution_count": 53,
      "metadata": {},
      "outputs": [
        {
          "data": {
            "text/html": [
              "<div>\n",
              "<style scoped>\n",
              "    .dataframe tbody tr th:only-of-type {\n",
              "        vertical-align: middle;\n",
              "    }\n",
              "\n",
              "    .dataframe tbody tr th {\n",
              "        vertical-align: top;\n",
              "    }\n",
              "\n",
              "    .dataframe thead th {\n",
              "        text-align: right;\n",
              "    }\n",
              "</style>\n",
              "<table border=\"1\" class=\"dataframe\">\n",
              "  <thead>\n",
              "    <tr style=\"text-align: right;\">\n",
              "      <th></th>\n",
              "      <th>oper_pc</th>\n",
              "    </tr>\n",
              "  </thead>\n",
              "  <tbody>\n",
              "    <tr>\n",
              "      <th>0</th>\n",
              "      <td>0.006208</td>\n",
              "    </tr>\n",
              "    <tr>\n",
              "      <th>1</th>\n",
              "      <td>0.006838</td>\n",
              "    </tr>\n",
              "    <tr>\n",
              "      <th>2</th>\n",
              "      <td>0.006436</td>\n",
              "    </tr>\n",
              "    <tr>\n",
              "      <th>3</th>\n",
              "      <td>0.005929</td>\n",
              "    </tr>\n",
              "    <tr>\n",
              "      <th>4</th>\n",
              "      <td>0.005507</td>\n",
              "    </tr>\n",
              "    <tr>\n",
              "      <th>...</th>\n",
              "      <td>...</td>\n",
              "    </tr>\n",
              "    <tr>\n",
              "      <th>541</th>\n",
              "      <td>0.002011</td>\n",
              "    </tr>\n",
              "    <tr>\n",
              "      <th>542</th>\n",
              "      <td>0.001200</td>\n",
              "    </tr>\n",
              "    <tr>\n",
              "      <th>543</th>\n",
              "      <td>0.001923</td>\n",
              "    </tr>\n",
              "    <tr>\n",
              "      <th>544</th>\n",
              "      <td>0.000989</td>\n",
              "    </tr>\n",
              "    <tr>\n",
              "      <th>545</th>\n",
              "      <td>0.000695</td>\n",
              "    </tr>\n",
              "  </tbody>\n",
              "</table>\n",
              "<p>546 rows × 1 columns</p>\n",
              "</div>"
            ],
            "text/plain": [
              "      oper_pc\n",
              "0    0.006208\n",
              "1    0.006838\n",
              "2    0.006436\n",
              "3    0.005929\n",
              "4    0.005507\n",
              "..        ...\n",
              "541  0.002011\n",
              "542  0.001200\n",
              "543  0.001923\n",
              "544  0.000989\n",
              "545  0.000695\n",
              "\n",
              "[546 rows x 1 columns]"
            ]
          },
          "execution_count": 53,
          "metadata": {},
          "output_type": "execute_result"
        }
      ],
      "source": [
        "microcred_esdata['oper_pc'] = microcred_esdata['oper'] / microcred_esdata['pop']\n",
        "microcred_esdata[['oper_pc']]"
      ]
    },
    {
      "cell_type": "code",
      "execution_count": 54,
      "metadata": {},
      "outputs": [
        {
          "name": "stdout",
          "output_type": "stream",
          "text": [
            "                            OLS Regression Results                            \n",
            "==============================================================================\n",
            "Dep. Variable:             pib_def_pc   R-squared:                       0.931\n",
            "Model:                            OLS   Adj. R-squared:                  0.930\n",
            "Method:                 Least Squares   F-statistic:                     1450.\n",
            "Date:                Fri, 15 Jul 2022   Prob (F-statistic):          3.44e-310\n",
            "Time:                        11:36:14   Log-Likelihood:                -6331.7\n",
            "No. Observations:                 546   AIC:                         1.268e+04\n",
            "Df Residuals:                     540   BIC:                         1.270e+04\n",
            "Df Model:                           5                                         \n",
            "Covariance Type:            nonrobust                                         \n",
            "====================================================================================\n",
            "                       coef    std err          t      P>|t|      [0.025      0.975]\n",
            "------------------------------------------------------------------------------------\n",
            "Intercept         -2.98e+04    1.7e+04     -1.752      0.080   -6.32e+04    3616.454\n",
            "cred_def_pc        -10.0121     51.243     -0.195      0.845    -110.673      90.649\n",
            "FPM_def_pc         -18.4156      8.152     -2.259      0.024     -34.430      -2.401\n",
            "royalties_def_pc    58.5276      0.699     83.758      0.000      57.155      59.900\n",
            "oper_pc          -9.845e+04    4.6e+05     -0.214      0.831      -1e+06    8.05e+05\n",
            "IFDM_GERAL        8.162e+04   2.03e+04      4.024      0.000    4.18e+04    1.21e+05\n",
            "==============================================================================\n",
            "Omnibus:                      568.449   Durbin-Watson:                   0.994\n",
            "Prob(Omnibus):                  0.000   Jarque-Bera (JB):           170907.663\n",
            "Skew:                          -3.975   Prob(JB):                         0.00\n",
            "Kurtosis:                      89.309   Cond. No.                     7.01e+05\n",
            "==============================================================================\n",
            "\n",
            "Notes:\n",
            "[1] Standard Errors assume that the covariance matrix of the errors is correctly specified.\n",
            "[2] The condition number is large, 7.01e+05. This might indicate that there are\n",
            "strong multicollinearity or other numerical problems.\n"
          ]
        }
      ],
      "source": [
        "reg_microes_ols_4c = smf.ols('pib_def_pc ~ cred_def_pc + FPM_def_pc + royalties_def_pc + oper_pc + IFDM_GERAL', \n",
        "                              data = microcred_esdata)\n",
        "results_reg_microes_ols_4c = reg_microes_ols_4c.fit()\n",
        "print(results_reg_microes_ols_4c.summary())"
      ]
    },
    {
      "cell_type": "markdown",
      "metadata": {},
      "source": [
        "## d)"
      ]
    },
    {
      "cell_type": "code",
      "execution_count": 55,
      "metadata": {},
      "outputs": [
        {
          "data": {
            "text/html": [
              "<div>\n",
              "<style scoped>\n",
              "    .dataframe tbody tr th:only-of-type {\n",
              "        vertical-align: middle;\n",
              "    }\n",
              "\n",
              "    .dataframe tbody tr th {\n",
              "        vertical-align: top;\n",
              "    }\n",
              "\n",
              "    .dataframe thead th {\n",
              "        text-align: right;\n",
              "    }\n",
              "</style>\n",
              "<table border=\"1\" class=\"dataframe\">\n",
              "  <thead>\n",
              "    <tr style=\"text-align: right;\">\n",
              "      <th></th>\n",
              "      <th></th>\n",
              "      <th>cred_def</th>\n",
              "      <th>FPM_def</th>\n",
              "      <th>royalties_def</th>\n",
              "      <th>pib_def</th>\n",
              "      <th>oper</th>\n",
              "      <th>IFDM_GERAL</th>\n",
              "      <th>esti_receitapropria</th>\n",
              "      <th>pop</th>\n",
              "      <th>cred_def_pc</th>\n",
              "      <th>FPM_def_pc</th>\n",
              "      <th>royalties_def_pc</th>\n",
              "      <th>pib_def_pc</th>\n",
              "      <th>esti_receitapropria_pc</th>\n",
              "      <th>oper_pc</th>\n",
              "    </tr>\n",
              "    <tr>\n",
              "      <th>municipio</th>\n",
              "      <th>ano</th>\n",
              "      <th></th>\n",
              "      <th></th>\n",
              "      <th></th>\n",
              "      <th></th>\n",
              "      <th></th>\n",
              "      <th></th>\n",
              "      <th></th>\n",
              "      <th></th>\n",
              "      <th></th>\n",
              "      <th></th>\n",
              "      <th></th>\n",
              "      <th></th>\n",
              "      <th></th>\n",
              "      <th></th>\n",
              "    </tr>\n",
              "  </thead>\n",
              "  <tbody>\n",
              "    <tr>\n",
              "      <th rowspan=\"5\" valign=\"top\">Afonso Cláudio</th>\n",
              "      <th>2010</th>\n",
              "      <td>2.312024e+06</td>\n",
              "      <td>2.063070e+07</td>\n",
              "      <td>1.555022e+06</td>\n",
              "      <td>4.050472e+08</td>\n",
              "      <td>193</td>\n",
              "      <td>0.712163</td>\n",
              "      <td>3.110818e+06</td>\n",
              "      <td>31091</td>\n",
              "      <td>74.363115</td>\n",
              "      <td>663.558598</td>\n",
              "      <td>50.015186</td>\n",
              "      <td>13027.795730</td>\n",
              "      <td>100.055246</td>\n",
              "      <td>0.006208</td>\n",
              "    </tr>\n",
              "    <tr>\n",
              "      <th>2011</th>\n",
              "      <td>2.481674e+06</td>\n",
              "      <td>2.347283e+07</td>\n",
              "      <td>2.908329e+06</td>\n",
              "      <td>4.338577e+08</td>\n",
              "      <td>212</td>\n",
              "      <td>0.737355</td>\n",
              "      <td>3.307073e+06</td>\n",
              "      <td>31004</td>\n",
              "      <td>80.043674</td>\n",
              "      <td>757.090288</td>\n",
              "      <td>93.804959</td>\n",
              "      <td>13993.602539</td>\n",
              "      <td>106.666000</td>\n",
              "      <td>0.006838</td>\n",
              "    </tr>\n",
              "    <tr>\n",
              "      <th>2012</th>\n",
              "      <td>2.185640e+06</td>\n",
              "      <td>2.282401e+07</td>\n",
              "      <td>3.398179e+06</td>\n",
              "      <td>4.753806e+08</td>\n",
              "      <td>199</td>\n",
              "      <td>0.748059</td>\n",
              "      <td>3.444694e+06</td>\n",
              "      <td>30919</td>\n",
              "      <td>70.689225</td>\n",
              "      <td>738.187337</td>\n",
              "      <td>109.905849</td>\n",
              "      <td>15375.032463</td>\n",
              "      <td>111.410271</td>\n",
              "      <td>0.006436</td>\n",
              "    </tr>\n",
              "    <tr>\n",
              "      <th>2013</th>\n",
              "      <td>1.818640e+06</td>\n",
              "      <td>2.317639e+07</td>\n",
              "      <td>3.507842e+06</td>\n",
              "      <td>4.810916e+08</td>\n",
              "      <td>193</td>\n",
              "      <td>0.736154</td>\n",
              "      <td>3.609006e+06</td>\n",
              "      <td>32551</td>\n",
              "      <td>55.870489</td>\n",
              "      <td>712.002355</td>\n",
              "      <td>107.764494</td>\n",
              "      <td>14779.626804</td>\n",
              "      <td>110.872349</td>\n",
              "      <td>0.005929</td>\n",
              "    </tr>\n",
              "    <tr>\n",
              "      <th>2014</th>\n",
              "      <td>1.882815e+06</td>\n",
              "      <td>2.325341e+07</td>\n",
              "      <td>3.816122e+06</td>\n",
              "      <td>4.917057e+08</td>\n",
              "      <td>179</td>\n",
              "      <td>0.708248</td>\n",
              "      <td>4.014598e+06</td>\n",
              "      <td>32502</td>\n",
              "      <td>57.929191</td>\n",
              "      <td>715.445407</td>\n",
              "      <td>117.411904</td>\n",
              "      <td>15128.474183</td>\n",
              "      <td>123.518499</td>\n",
              "      <td>0.005507</td>\n",
              "    </tr>\n",
              "    <tr>\n",
              "      <th>...</th>\n",
              "      <th>...</th>\n",
              "      <td>...</td>\n",
              "      <td>...</td>\n",
              "      <td>...</td>\n",
              "      <td>...</td>\n",
              "      <td>...</td>\n",
              "      <td>...</td>\n",
              "      <td>...</td>\n",
              "      <td>...</td>\n",
              "      <td>...</td>\n",
              "      <td>...</td>\n",
              "      <td>...</td>\n",
              "      <td>...</td>\n",
              "      <td>...</td>\n",
              "      <td>...</td>\n",
              "    </tr>\n",
              "    <tr>\n",
              "      <th rowspan=\"5\" valign=\"top\">Vitória</th>\n",
              "      <th>2012</th>\n",
              "      <td>5.792563e+06</td>\n",
              "      <td>1.510206e+08</td>\n",
              "      <td>2.555672e+07</td>\n",
              "      <td>3.586177e+10</td>\n",
              "      <td>670</td>\n",
              "      <td>0.851657</td>\n",
              "      <td>7.024802e+08</td>\n",
              "      <td>333162</td>\n",
              "      <td>17.386625</td>\n",
              "      <td>453.294809</td>\n",
              "      <td>76.709601</td>\n",
              "      <td>107640.639000</td>\n",
              "      <td>2108.524305</td>\n",
              "      <td>0.002011</td>\n",
              "    </tr>\n",
              "    <tr>\n",
              "      <th>2013</th>\n",
              "      <td>3.946719e+06</td>\n",
              "      <td>1.357670e+08</td>\n",
              "      <td>2.981084e+07</td>\n",
              "      <td>3.097523e+10</td>\n",
              "      <td>418</td>\n",
              "      <td>0.854752</td>\n",
              "      <td>6.534731e+08</td>\n",
              "      <td>348268</td>\n",
              "      <td>11.332420</td>\n",
              "      <td>389.834861</td>\n",
              "      <td>85.597408</td>\n",
              "      <td>88940.786253</td>\n",
              "      <td>1876.351285</td>\n",
              "      <td>0.001200</td>\n",
              "    </tr>\n",
              "    <tr>\n",
              "      <th>2014</th>\n",
              "      <td>4.476135e+06</td>\n",
              "      <td>1.411357e+08</td>\n",
              "      <td>3.388286e+07</td>\n",
              "      <td>3.066487e+10</td>\n",
              "      <td>677</td>\n",
              "      <td>0.857995</td>\n",
              "      <td>7.102522e+08</td>\n",
              "      <td>352104</td>\n",
              "      <td>12.712537</td>\n",
              "      <td>400.835313</td>\n",
              "      <td>96.229701</td>\n",
              "      <td>87090.380672</td>\n",
              "      <td>2017.165855</td>\n",
              "      <td>0.001923</td>\n",
              "    </tr>\n",
              "    <tr>\n",
              "      <th>2015</th>\n",
              "      <td>3.886005e+06</td>\n",
              "      <td>1.348078e+08</td>\n",
              "      <td>2.217259e+07</td>\n",
              "      <td>2.726150e+10</td>\n",
              "      <td>352</td>\n",
              "      <td>0.831387</td>\n",
              "      <td>6.217284e+08</td>\n",
              "      <td>355875</td>\n",
              "      <td>10.919579</td>\n",
              "      <td>378.806538</td>\n",
              "      <td>62.304438</td>\n",
              "      <td>76604.147478</td>\n",
              "      <td>1747.041558</td>\n",
              "      <td>0.000989</td>\n",
              "    </tr>\n",
              "    <tr>\n",
              "      <th>2016</th>\n",
              "      <td>3.148692e+06</td>\n",
              "      <td>1.666094e+08</td>\n",
              "      <td>1.717894e+07</td>\n",
              "      <td>2.415886e+10</td>\n",
              "      <td>250</td>\n",
              "      <td>0.824399</td>\n",
              "      <td>5.725888e+08</td>\n",
              "      <td>359555</td>\n",
              "      <td>8.757191</td>\n",
              "      <td>463.376776</td>\n",
              "      <td>47.778335</td>\n",
              "      <td>67191.007749</td>\n",
              "      <td>1592.493070</td>\n",
              "      <td>0.000695</td>\n",
              "    </tr>\n",
              "  </tbody>\n",
              "</table>\n",
              "<p>546 rows × 14 columns</p>\n",
              "</div>"
            ],
            "text/plain": [
              "                         cred_def       FPM_def  royalties_def       pib_def  \\\n",
              "municipio      ano                                                             \n",
              "Afonso Cláudio 2010  2.312024e+06  2.063070e+07   1.555022e+06  4.050472e+08   \n",
              "               2011  2.481674e+06  2.347283e+07   2.908329e+06  4.338577e+08   \n",
              "               2012  2.185640e+06  2.282401e+07   3.398179e+06  4.753806e+08   \n",
              "               2013  1.818640e+06  2.317639e+07   3.507842e+06  4.810916e+08   \n",
              "               2014  1.882815e+06  2.325341e+07   3.816122e+06  4.917057e+08   \n",
              "...                           ...           ...            ...           ...   \n",
              "Vitória        2012  5.792563e+06  1.510206e+08   2.555672e+07  3.586177e+10   \n",
              "               2013  3.946719e+06  1.357670e+08   2.981084e+07  3.097523e+10   \n",
              "               2014  4.476135e+06  1.411357e+08   3.388286e+07  3.066487e+10   \n",
              "               2015  3.886005e+06  1.348078e+08   2.217259e+07  2.726150e+10   \n",
              "               2016  3.148692e+06  1.666094e+08   1.717894e+07  2.415886e+10   \n",
              "\n",
              "                     oper  IFDM_GERAL  esti_receitapropria     pop  \\\n",
              "municipio      ano                                                   \n",
              "Afonso Cláudio 2010   193    0.712163         3.110818e+06   31091   \n",
              "               2011   212    0.737355         3.307073e+06   31004   \n",
              "               2012   199    0.748059         3.444694e+06   30919   \n",
              "               2013   193    0.736154         3.609006e+06   32551   \n",
              "               2014   179    0.708248         4.014598e+06   32502   \n",
              "...                   ...         ...                  ...     ...   \n",
              "Vitória        2012   670    0.851657         7.024802e+08  333162   \n",
              "               2013   418    0.854752         6.534731e+08  348268   \n",
              "               2014   677    0.857995         7.102522e+08  352104   \n",
              "               2015   352    0.831387         6.217284e+08  355875   \n",
              "               2016   250    0.824399         5.725888e+08  359555   \n",
              "\n",
              "                     cred_def_pc  FPM_def_pc  royalties_def_pc     pib_def_pc  \\\n",
              "municipio      ano                                                              \n",
              "Afonso Cláudio 2010    74.363115  663.558598         50.015186   13027.795730   \n",
              "               2011    80.043674  757.090288         93.804959   13993.602539   \n",
              "               2012    70.689225  738.187337        109.905849   15375.032463   \n",
              "               2013    55.870489  712.002355        107.764494   14779.626804   \n",
              "               2014    57.929191  715.445407        117.411904   15128.474183   \n",
              "...                          ...         ...               ...            ...   \n",
              "Vitória        2012    17.386625  453.294809         76.709601  107640.639000   \n",
              "               2013    11.332420  389.834861         85.597408   88940.786253   \n",
              "               2014    12.712537  400.835313         96.229701   87090.380672   \n",
              "               2015    10.919579  378.806538         62.304438   76604.147478   \n",
              "               2016     8.757191  463.376776         47.778335   67191.007749   \n",
              "\n",
              "                     esti_receitapropria_pc   oper_pc  \n",
              "municipio      ano                                     \n",
              "Afonso Cláudio 2010              100.055246  0.006208  \n",
              "               2011              106.666000  0.006838  \n",
              "               2012              111.410271  0.006436  \n",
              "               2013              110.872349  0.005929  \n",
              "               2014              123.518499  0.005507  \n",
              "...                                     ...       ...  \n",
              "Vitória        2012             2108.524305  0.002011  \n",
              "               2013             1876.351285  0.001200  \n",
              "               2014             2017.165855  0.001923  \n",
              "               2015             1747.041558  0.000989  \n",
              "               2016             1592.493070  0.000695  \n",
              "\n",
              "[546 rows x 14 columns]"
            ]
          },
          "execution_count": 55,
          "metadata": {},
          "output_type": "execute_result"
        }
      ],
      "source": [
        "import linearmodels as plm\n",
        "\n",
        "microcred_esdata_ef = microcred_esdata.copy() \n",
        "microcred_esdata_ef.set_index(['municipio', 'ano'], inplace = True)\n",
        "microcred_esdata_ef"
      ]
    },
    {
      "cell_type": "code",
      "execution_count": 56,
      "metadata": {},
      "outputs": [
        {
          "name": "stdout",
          "output_type": "stream",
          "text": [
            "                          PanelOLS Estimation Summary                           \n",
            "================================================================================\n",
            "Dep. Variable:             pib_def_pc   R-squared:                        0.8666\n",
            "Estimator:                   PanelOLS   R-squared (Between):              0.2522\n",
            "No. Observations:                 546   R-squared (Within):               0.8666\n",
            "Date:                Fri, Jul 15 2022   R-squared (Overall):              0.3435\n",
            "Time:                        11:36:15   Log-likelihood                   -6026.6\n",
            "Cov. Estimator:            Unadjusted                                           \n",
            "                                        F-statistic:                      601.80\n",
            "Entities:                          78   P-value                           0.0000\n",
            "Avg Obs:                       7.0000   Distribution:                   F(5,463)\n",
            "Min Obs:                       7.0000                                           \n",
            "Max Obs:                       7.0000   F-statistic (robust):             601.80\n",
            "                                        P-value                           0.0000\n",
            "Time periods:                       7   Distribution:                   F(5,463)\n",
            "Avg Obs:                       78.000                                           \n",
            "Min Obs:                       78.000                                           \n",
            "Max Obs:                       78.000                                           \n",
            "                                                                                \n",
            "                                Parameter Estimates                                 \n",
            "====================================================================================\n",
            "                  Parameter  Std. Err.     T-stat    P-value    Lower CI    Upper CI\n",
            "------------------------------------------------------------------------------------\n",
            "FPM_def_pc          -12.693     10.218    -1.2423     0.2148     -32.772      7.3856\n",
            "IFDM_GERAL        -7.88e+04  2.667e+04    -2.9546     0.0033  -1.312e+05  -2.639e+04\n",
            "cred_def_pc          114.65     59.773     1.9180     0.0557     -2.8143      232.10\n",
            "oper_pc           -7.94e+05  4.416e+05    -1.7981     0.0728  -1.662e+06   7.374e+04\n",
            "royalties_def_pc     93.203     1.7115     54.457     0.0000      89.840      96.566\n",
            "====================================================================================\n",
            "\n",
            "F-test for Poolability: 12.371\n",
            "P-value: 0.0000\n",
            "Distribution: F(77,463)\n",
            "\n",
            "Included effects: Entity\n"
          ]
        }
      ],
      "source": [
        "reg_microes_ef = plm.PanelOLS.from_formula('pib_def_pc ~ cred_def_pc + FPM_def_pc + royalties_def_pc + oper_pc + IFDM_GERAL +'\n",
        "                                           'EntityEffects', \n",
        "                                           data = microcred_esdata_ef)\n",
        "results_reg_microes_ef = reg_microes_ef.fit()\n",
        "print(results_reg_microes_ef.summary)"
      ]
    },
    {
      "cell_type": "markdown",
      "metadata": {},
      "source": [
        "Como a política de microcrédito opera em todos os municípios, devemos controlar para as heterogeneidades não observadas que podem influenciar no impacto do programa. Por ser uma variável importante, inserí-la no termo do erro nso leva ao viés da variável omitida e, por isso, os estimadores obtidos serão viesados. \n",
        "\n",
        "Com o modelo de efeitos fixos, controlamos a heterogeneidade não observada dos municípios do termo do erro, obtendo estimadores mais precisos. "
      ]
    },
    {
      "cell_type": "markdown",
      "metadata": {},
      "source": [
        "## e) "
      ]
    },
    {
      "cell_type": "code",
      "execution_count": 57,
      "metadata": {},
      "outputs": [
        {
          "name": "stdout",
          "output_type": "stream",
          "text": [
            "                          PanelOLS Estimation Summary                           \n",
            "================================================================================\n",
            "Dep. Variable:             pib_def_pc   R-squared:                        0.9310\n",
            "Estimator:                   PanelOLS   R-squared (Between):              0.9007\n",
            "No. Observations:                 546   R-squared (Within):               0.7426\n",
            "Date:                Fri, Jul 15 2022   R-squared (Overall):              0.8772\n",
            "Time:                        11:36:16   Log-likelihood                   -6328.6\n",
            "Cov. Estimator:            Unadjusted                                           \n",
            "                                        F-statistic:                      1440.9\n",
            "Entities:                          78   P-value                           0.0000\n",
            "Avg Obs:                       7.0000   Distribution:                   F(5,534)\n",
            "Min Obs:                       7.0000                                           \n",
            "Max Obs:                       7.0000   F-statistic (robust):             1440.9\n",
            "                                        P-value                           0.0000\n",
            "Time periods:                       7   Distribution:                   F(5,534)\n",
            "Avg Obs:                       78.000                                           \n",
            "Min Obs:                       78.000                                           \n",
            "Max Obs:                       78.000                                           \n",
            "                                                                                \n",
            "                                Parameter Estimates                                 \n",
            "====================================================================================\n",
            "                  Parameter  Std. Err.     T-stat    P-value    Lower CI    Upper CI\n",
            "------------------------------------------------------------------------------------\n",
            "FPM_def_pc          -15.871     8.5273    -1.8613     0.0633     -32.623      0.8797\n",
            "IFDM_GERAL        7.667e+04  2.113e+04     3.6281     0.0003   3.516e+04   1.182e+05\n",
            "cred_def_pc         -28.752     53.870    -0.5337     0.5938     -134.58      77.072\n",
            "oper_pc          -3.874e+04  4.915e+05    -0.0788     0.9372  -1.004e+06   9.268e+05\n",
            "royalties_def_pc     58.524     0.7008     83.513     0.0000      57.147      59.901\n",
            "====================================================================================\n",
            "\n",
            "F-test for Poolability: 1.0145\n",
            "P-value: 0.4148\n",
            "Distribution: F(6,534)\n",
            "\n",
            "Included effects: Time\n"
          ]
        }
      ],
      "source": [
        "reg_microes_eftempo = plm.PanelOLS.from_formula('pib_def_pc ~ cred_def_pc + FPM_def_pc + royalties_def_pc + oper_pc +' \n",
        "                                                'IFDM_GERAL + TimeEffects', \n",
        "                                                data = microcred_esdata_ef)\n",
        "results_reg_microes_eftempo = reg_microes_eftempo.fit()\n",
        "print(results_reg_microes_eftempo.summary)"
      ]
    },
    {
      "cell_type": "code",
      "execution_count": 58,
      "metadata": {},
      "outputs": [
        {
          "data": {
            "text/plain": [
              "Pooled F-statistic\n",
              "H0: Effects are zero\n",
              "Statistic: 1.0145\n",
              "P-value: 0.4148\n",
              "Distributed: F(6,534)\n",
              "WaldTestStatistic, id: 0x1434d6282e0"
            ]
          },
          "execution_count": 58,
          "metadata": {},
          "output_type": "execute_result"
        }
      ],
      "source": [
        "results_reg_microes_eftempo.f_pooled"
      ]
    },
    {
      "cell_type": "markdown",
      "metadata": {},
      "source": [
        "Ao controlarmos para efeitos fixos de tempo, conseguimos capturar mudanças ocorridas ao longo do tempo de análise e que podem afetar a oferta ou o acesso de crédito, além da própria polítca, podendo então, influenciar em seu impacto. Alterações do custo do crédito com as variações na taxa básica da economia ou mudanças regulatórias no mercado de crédito podem ser alguns exemplos dessas mudanças que podem ser controladas ao adicionarmos os efeitos fixos de tempo na regressão.\n",
        "\n",
        "Ao compararmos os coeficientes para a variável de micrédito na regressão com efeitos fixos de tempo contra os efeitos fixos para municípios, podemos observar que para o primeiro caso, o sinal não corresponde ao esperado pela teoria econômica. Ainda, de modo individual, vemos que o parâmetro estimado para essa variável torna-se não significante do ponto de vista estatístico, até mesmo ao nível de 10%. \n",
        "\n",
        "Por fim, tanto no fim do sumário quanto na linha de código acima, explicitamos os resultados do teste F para a significância dos efeitos de tempo na regressão. Com um p-valor de 0.4148, temos uma probabilidade de 41.48% de errar ao rejeitarmos a hipótese nula de que os efeitos em questão são estatisticamente insignificantes. "
      ]
    },
    {
      "cell_type": "markdown",
      "metadata": {},
      "source": [
        "## f)"
      ]
    },
    {
      "cell_type": "markdown",
      "metadata": {},
      "source": [
        "Podemos definir o modelo teórico para este problema como:\n",
        "\n",
        "$$\n",
        "Y_{it} = \\beta_0 + \\beta_1credpc + \\beta_2operpc + \\beta_3royaltiespc + \\beta_4FPMpc + \\beta_5IFDMGERAL + \\alpha_i + \\lambda_t + u_{it}\n",
        "$$\n",
        "\n",
        "para $i = 1, 2, ..., n$ e $t = 1, 2, ..., T$\n",
        "\n",
        "A seguir, podemos estimá-lo."
      ]
    },
    {
      "cell_type": "code",
      "execution_count": 59,
      "metadata": {},
      "outputs": [
        {
          "name": "stdout",
          "output_type": "stream",
          "text": [
            "                          PanelOLS Estimation Summary                           \n",
            "================================================================================\n",
            "Dep. Variable:             pib_def_pc   R-squared:                        0.8720\n",
            "Estimator:                   PanelOLS   R-squared (Between):              0.2536\n",
            "No. Observations:                 546   R-squared (Within):               0.8642\n",
            "Date:                Fri, Jul 15 2022   R-squared (Overall):              0.3443\n",
            "Time:                        11:36:16   Log-likelihood                   -6004.8\n",
            "Cov. Estimator:            Unadjusted                                           \n",
            "                                        F-statistic:                      622.48\n",
            "Entities:                          78   P-value                           0.0000\n",
            "Avg Obs:                       7.0000   Distribution:                   F(5,457)\n",
            "Min Obs:                       7.0000                                           \n",
            "Max Obs:                       7.0000   F-statistic (robust):             622.48\n",
            "                                        P-value                           0.0000\n",
            "Time periods:                       7   Distribution:                   F(5,457)\n",
            "Avg Obs:                       78.000                                           \n",
            "Min Obs:                       78.000                                           \n",
            "Max Obs:                       78.000                                           \n",
            "                                                                                \n",
            "                                Parameter Estimates                                 \n",
            "====================================================================================\n",
            "                  Parameter  Std. Err.     T-stat    P-value    Lower CI    Upper CI\n",
            "------------------------------------------------------------------------------------\n",
            "FPM_def_pc           3.5452     11.757     0.3015     0.7631     -19.559      26.650\n",
            "IFDM_GERAL       -8.561e+04  2.952e+04    -2.8999     0.0039  -1.436e+05   -2.76e+04\n",
            "cred_def_pc         -8.5749     65.250    -0.1314     0.8955     -136.80      119.65\n",
            "oper_pc           1.696e+05  4.836e+05     0.3508     0.7259  -7.807e+05    1.12e+06\n",
            "royalties_def_pc     94.871     1.7062     55.603     0.0000      91.518      98.224\n",
            "====================================================================================\n",
            "\n",
            "F-test for Poolability: 12.727\n",
            "P-value: 0.0000\n",
            "Distribution: F(83,457)\n",
            "\n",
            "Included effects: Entity, Time\n"
          ]
        }
      ],
      "source": [
        "reg_microes_eftempo_mun = plm.PanelOLS.from_formula('pib_def_pc ~ cred_def_pc + FPM_def_pc + royalties_def_pc + oper_pc +' \n",
        "                                                    'IFDM_GERAL + TimeEffects + EntityEffects', \n",
        "                                                    data = microcred_esdata_ef)\n",
        "results_reg_microes_eftempo_mun = reg_microes_eftempo_mun.fit()\n",
        "print(results_reg_microes_eftempo_mun.summary)"
      ]
    },
    {
      "cell_type": "code",
      "execution_count": 60,
      "metadata": {},
      "outputs": [
        {
          "data": {
            "text/plain": [
              "Pooled F-statistic\n",
              "H0: Effects are zero\n",
              "Statistic: 12.7270\n",
              "P-value: 0.0000\n",
              "Distributed: F(83,457)\n",
              "WaldTestStatistic, id: 0x1434c115910"
            ]
          },
          "execution_count": 60,
          "metadata": {},
          "output_type": "execute_result"
        }
      ],
      "source": [
        "results_reg_microes_eftempo_mun.f_pooled"
      ]
    },
    {
      "cell_type": "markdown",
      "metadata": {},
      "source": [
        "Tanto no fim do sumário quanto na linha de código acima, explicitamos os resultados do teste F para a significância dos efeitos de tempo e município, em conjunto, na regressão. Com um p-valor de 0.0, temos uma probabilidade de 0% de errar ao rejeitarmos a hipótese nula de que os efeitos em questão são estatisticamente insignificantes. Logo, com esse critério, podemos controlar para ambos os efeitos simultaneamente.\n",
        "\n",
        "Contudo, vale destacar que individualmente o sinal do parâmetro de interesse da variável de crédito deflacionado per capita encontra-se em desacordo com o esperado pela teoria econômica, além de não ser significante nem ao nível de 10%. Nesse caso, devemos atentar para a implementação desse modelo na avaliação da política em questão."
      ]
    },
    {
      "cell_type": "markdown",
      "metadata": {},
      "source": [
        "## g)"
      ]
    },
    {
      "cell_type": "markdown",
      "metadata": {},
      "source": [
        "Printando os resultados para os testes F de inclusão de efeitos fixos e organizando a tabela para comparar os coeficientes estimados pelos 3 diferentes modelos."
      ]
    },
    {
      "cell_type": "code",
      "execution_count": 61,
      "metadata": {},
      "outputs": [
        {
          "name": "stdout",
          "output_type": "stream",
          "text": [
            "Teste de signicância para os efeitos fixos de município\n",
            "Pooled F-statistic\n",
            "H0: Effects are zero\n",
            "Statistic: 12.3713\n",
            "P-value: 0.0000\n",
            "Distributed: F(77,463)\n",
            "\n",
            "Teste de signicância para os efeitos fixos de tempo\n",
            "Pooled F-statistic\n",
            "H0: Effects are zero\n",
            "Statistic: 1.0145\n",
            "P-value: 0.4148\n",
            "Distributed: F(6,534)\n",
            "\n",
            "Teste de signicância para os efeitos fixos de município e tempo\n",
            "Pooled F-statistic\n",
            "H0: Effects are zero\n",
            "Statistic: 12.7270\n",
            "P-value: 0.0000\n",
            "Distributed: F(83,457)\n"
          ]
        }
      ],
      "source": [
        "print('Teste de signicância para os efeitos fixos de município', results_reg_microes_ef.f_pooled, sep = '\\n') # \\n para pular uma linha\n",
        "print('\\nTeste de signicância para os efeitos fixos de tempo', results_reg_microes_eftempo.f_pooled, sep = '\\n') \n",
        "print('\\nTeste de signicância para os efeitos fixos de município e tempo', results_reg_microes_eftempo_mun.f_pooled, sep = '\\n')"
      ]
    },
    {
      "cell_type": "code",
      "execution_count": 62,
      "metadata": {},
      "outputs": [
        {
          "data": {
            "text/html": [
              "<div>\n",
              "<style scoped>\n",
              "    .dataframe tbody tr th:only-of-type {\n",
              "        vertical-align: middle;\n",
              "    }\n",
              "\n",
              "    .dataframe tbody tr th {\n",
              "        vertical-align: top;\n",
              "    }\n",
              "\n",
              "    .dataframe thead th {\n",
              "        text-align: right;\n",
              "    }\n",
              "</style>\n",
              "<table border=\"1\" class=\"dataframe\">\n",
              "  <thead>\n",
              "    <tr style=\"text-align: right;\">\n",
              "      <th></th>\n",
              "      <th>EF_municipio</th>\n",
              "      <th>EF_tempo</th>\n",
              "      <th>EF_municipio_tempo</th>\n",
              "    </tr>\n",
              "  </thead>\n",
              "  <tbody>\n",
              "    <tr>\n",
              "      <th>FPM_def_pc</th>\n",
              "      <td>-12.693</td>\n",
              "      <td>-15.871</td>\n",
              "      <td>3.545</td>\n",
              "    </tr>\n",
              "    <tr>\n",
              "      <th>IFDM_GERAL</th>\n",
              "      <td>-78802.852</td>\n",
              "      <td>76667.334</td>\n",
              "      <td>-85612.458</td>\n",
              "    </tr>\n",
              "    <tr>\n",
              "      <th>cred_def_pc</th>\n",
              "      <td>114.645</td>\n",
              "      <td>-28.752</td>\n",
              "      <td>-8.575</td>\n",
              "    </tr>\n",
              "    <tr>\n",
              "      <th>oper_pc</th>\n",
              "      <td>-793984.398</td>\n",
              "      <td>-38735.134</td>\n",
              "      <td>169645.559</td>\n",
              "    </tr>\n",
              "    <tr>\n",
              "      <th>royalties_def_pc</th>\n",
              "      <td>93.203</td>\n",
              "      <td>58.524</td>\n",
              "      <td>94.871</td>\n",
              "    </tr>\n",
              "  </tbody>\n",
              "</table>\n",
              "</div>"
            ],
            "text/plain": [
              "                  EF_municipio   EF_tempo  EF_municipio_tempo\n",
              "FPM_def_pc             -12.693    -15.871               3.545\n",
              "IFDM_GERAL          -78802.852  76667.334          -85612.458\n",
              "cred_def_pc            114.645    -28.752              -8.575\n",
              "oper_pc            -793984.398 -38735.134          169645.559\n",
              "royalties_def_pc        93.203     58.524              94.871"
            ]
          },
          "execution_count": 62,
          "metadata": {},
          "output_type": "execute_result"
        }
      ],
      "source": [
        "comp_table = pd.DataFrame({'EF_municipio' : np.round(results_reg_microes_ef.params, 3),\n",
        "                           'EF_tempo' : np.round(results_reg_microes_eftempo.params, 3),\n",
        "                           'EF_municipio_tempo' : np.round(results_reg_microes_eftempo_mun.params, 3)})         \n",
        "\n",
        "comp_table"
      ]
    },
    {
      "cell_type": "markdown",
      "metadata": {},
      "source": [
        "Ao compararmos os testes F para saber se a inclusão dos efeitos fixos é adequada, verificamos que o caso em que incluímos apenas os efeitos fixos de tempo é o único não recomendado. Contudo, ao olharmos para a teoria econômica, o sinal esperado os coeficientes da variável de crédito e os testes t para a significância dessa variável nos três modelos, podemos concluir que apenas o modelo de efeitos fixos de município se torna adequado para analisar o impacto do crédito sobre o PIB das cidades comtempladas. \n",
        "\n",
        "Ainda, podemos dizer que o parâmetro de interesse se modifica nas estimações entre os três modelos pelo problema da variável omitida. No caso, controlar para os efeitos fixos de município parece ser a saída mais adequada, por isso, ao incluirmos apenas os efeitos fixos de tempo, o parâmetro estimado não é estatisticamente significante e não converge para o sinal esperado na teoria econômica. Na inclusão de ambos os efeitos, os efeitos fixos de tempo aparentam contaminar o resultado estimado, mesmo com a inclusão dos efeitos fixos de município, contribuindo para a incosistência e ausência de significância estatística.\n",
        "\n",
        "O modelo com efeitos fixos de municípios aparenta produzir um estimador mais consistente, não apenas em linha com o sinal esperado pela teoria econômica, mas também em termos de significância estatística.\n",
        "\n",
        "Por fim, podemos dizer que existem evidências, apesar de não tão consolidadas, do impacto positivo do microcrédito no PIB dos municípios."
      ]
    },
    {
      "cell_type": "markdown",
      "metadata": {},
      "source": [
        "## h)"
      ]
    },
    {
      "cell_type": "code",
      "execution_count": 63,
      "metadata": {},
      "outputs": [
        {
          "name": "stdout",
          "output_type": "stream",
          "text": [
            "                        RandomEffects Estimation Summary                        \n",
            "================================================================================\n",
            "Dep. Variable:             pib_def_pc   R-squared:                        0.8626\n",
            "Estimator:              RandomEffects   R-squared (Between):              0.9389\n",
            "No. Observations:                 546   R-squared (Within):               0.8001\n",
            "Date:                Fri, Jul 15 2022   R-squared (Overall):              0.9183\n",
            "Time:                        11:36:18   Log-likelihood                   -6198.2\n",
            "Cov. Estimator:            Unadjusted                                           \n",
            "                                        F-statistic:                      679.33\n",
            "Entities:                          78   P-value                           0.0000\n",
            "Avg Obs:                       7.0000   Distribution:                   F(5,541)\n",
            "Min Obs:                       7.0000                                           \n",
            "Max Obs:                       7.0000   F-statistic (robust):             679.33\n",
            "                                        P-value                           0.0000\n",
            "Time periods:                       7   Distribution:                   F(5,541)\n",
            "Avg Obs:                       78.000                                           \n",
            "Min Obs:                       78.000                                           \n",
            "Max Obs:                       78.000                                           \n",
            "                                                                                \n",
            "                                Parameter Estimates                                 \n",
            "====================================================================================\n",
            "                  Parameter  Std. Err.     T-stat    P-value    Lower CI    Upper CI\n",
            "------------------------------------------------------------------------------------\n",
            "FPM_def_pc          -22.518     8.8288    -2.5505     0.0110     -39.861     -5.1751\n",
            "IFDM_GERAL        3.688e+04     7980.7     4.6210     0.0000    2.12e+04   5.256e+04\n",
            "cred_def_pc          8.5595     58.999     0.1451     0.8847     -107.34      124.45\n",
            "oper_pc          -1.668e+05  4.886e+05    -0.3414     0.7329  -1.127e+06    7.93e+05\n",
            "royalties_def_pc     67.943     1.2186     55.755     0.0000      65.550      70.337\n",
            "====================================================================================\n"
          ]
        }
      ],
      "source": [
        "reg_microes_re = plm.RandomEffects.from_formula('pib_def_pc ~ cred_def_pc + FPM_def_pc + royalties_def_pc + oper_pc + IFDM_GERAL', \n",
        "                                                data = microcred_esdata_ef)\n",
        "results_reg_microes_re = reg_microes_re.fit()\n",
        "print(results_reg_microes_re.summary)"
      ]
    },
    {
      "cell_type": "markdown",
      "metadata": {},
      "source": [
        "Teste de Huasman, implementado manualmente de acordo com HEISS, F.. Using Python for Introductory Econometrics, 2020.\n",
        "\n",
        "> Link para acesso aos exemplos do livro citado: http://www.upfie.net/index.html"
      ]
    },
    {
      "cell_type": "code",
      "execution_count": 64,
      "metadata": {},
      "outputs": [
        {
          "name": "stdout",
          "output_type": "stream",
          "text": [
            "stat: 455.40167733857595\n",
            "\n",
            "pval: 0.0\n",
            "\n"
          ]
        }
      ],
      "source": [
        "import scipy.stats as stats\n",
        "\n",
        "\n",
        "# (I) Encontrando os coeficientes em comum e as covariâncias:\n",
        "common_coef = set(results_reg_microes_ef.params.index).intersection(results_reg_microes_re.params.index)\n",
        "b_ef_cov = results_reg_microes_ef.cov\n",
        "b_re_cov = results_reg_microes_re.cov\n",
        "\n",
        "# (II) Calculando as diferenças entre EF e EA:\n",
        "b_diff = np.array(results_reg_microes_ef.params[common_coef] - results_reg_microes_re.params[common_coef])\n",
        "df = len(b_diff)\n",
        "b_diff.reshape((df, 1))\n",
        "b_cov_diff = np.array(b_ef_cov.loc[common_coef, common_coef] -\n",
        "                      b_re_cov.loc[common_coef, common_coef])\n",
        "b_cov_diff.reshape((df, df))\n",
        "\n",
        "# (III) Calculando a estatística de teste e o pvalor:\n",
        "stat = abs(np.transpose(b_diff) @ np.linalg.inv(b_cov_diff) @ b_diff)\n",
        "pval = 1 - stats.chi2.cdf(stat, df)\n",
        "\n",
        "print(f'stat: {stat}\\n')\n",
        "print(f'pval: {pval}\\n')"
      ]
    },
    {
      "cell_type": "markdown",
      "metadata": {},
      "source": [
        "Lembrando que:\n",
        "\n",
        "$H_0$: $q = 0$, $\\hat{\\beta_{EF}} = \\hat{\\beta_{EA}}$\n",
        "\n",
        "$H_1$: $q \\neq 0$, $\\hat{\\beta_{EF}} \\neq \\hat{\\beta_{EA}}$"
      ]
    },
    {
      "cell_type": "markdown",
      "metadata": {},
      "source": [
        "Ao comparar os parâmetros dos modelos de efeitos fixos para municípios com o de efeitos aleatórios, podemos dizer que há diferenças estatisticamente significantes, dado o p-valor = 0.0, que indica que temos 0% de chance de estarmos equivocados ao rejeitar $H_0$. \n",
        "\n",
        "Nesse caso, e reforçando os argumentos ao longo da questão, podemos concluir que, pela significância estatística do parâmetro, o sinal de acordo com o esperado com a teoria econômica e a significância para os efeitos fixos, o modelo de efeitos fixos para municípios é o mais adequado para o problema."
      ]
    },
    {
      "cell_type": "markdown",
      "metadata": {},
      "source": [
        "# Questão 5)"
      ]
    },
    {
      "cell_type": "code",
      "execution_count": 65,
      "metadata": {},
      "outputs": [
        {
          "data": {
            "text/html": [
              "<div>\n",
              "<style scoped>\n",
              "    .dataframe tbody tr th:only-of-type {\n",
              "        vertical-align: middle;\n",
              "    }\n",
              "\n",
              "    .dataframe tbody tr th {\n",
              "        vertical-align: top;\n",
              "    }\n",
              "\n",
              "    .dataframe thead th {\n",
              "        text-align: right;\n",
              "    }\n",
              "</style>\n",
              "<table border=\"1\" class=\"dataframe\">\n",
              "  <thead>\n",
              "    <tr style=\"text-align: right;\">\n",
              "      <th></th>\n",
              "      <th>LogPrice</th>\n",
              "      <th>Stormy</th>\n",
              "      <th>LogQuantity</th>\n",
              "    </tr>\n",
              "  </thead>\n",
              "  <tbody>\n",
              "    <tr>\n",
              "      <th>0</th>\n",
              "      <td>-0.430783</td>\n",
              "      <td>1</td>\n",
              "      <td>8.994421</td>\n",
              "    </tr>\n",
              "    <tr>\n",
              "      <th>1</th>\n",
              "      <td>0.000000</td>\n",
              "      <td>1</td>\n",
              "      <td>7.707063</td>\n",
              "    </tr>\n",
              "    <tr>\n",
              "      <th>2</th>\n",
              "      <td>0.072321</td>\n",
              "      <td>0</td>\n",
              "      <td>8.350194</td>\n",
              "    </tr>\n",
              "    <tr>\n",
              "      <th>3</th>\n",
              "      <td>0.247139</td>\n",
              "      <td>1</td>\n",
              "      <td>8.656955</td>\n",
              "    </tr>\n",
              "    <tr>\n",
              "      <th>4</th>\n",
              "      <td>0.664327</td>\n",
              "      <td>1</td>\n",
              "      <td>7.844241</td>\n",
              "    </tr>\n",
              "    <tr>\n",
              "      <th>...</th>\n",
              "      <td>...</td>\n",
              "      <td>...</td>\n",
              "      <td>...</td>\n",
              "    </tr>\n",
              "    <tr>\n",
              "      <th>106</th>\n",
              "      <td>-0.798508</td>\n",
              "      <td>0</td>\n",
              "      <td>8.610683</td>\n",
              "    </tr>\n",
              "    <tr>\n",
              "      <th>107</th>\n",
              "      <td>-0.087011</td>\n",
              "      <td>0</td>\n",
              "      <td>7.162397</td>\n",
              "    </tr>\n",
              "    <tr>\n",
              "      <th>108</th>\n",
              "      <td>0.184922</td>\n",
              "      <td>0</td>\n",
              "      <td>7.362010</td>\n",
              "    </tr>\n",
              "    <tr>\n",
              "      <th>109</th>\n",
              "      <td>0.223143</td>\n",
              "      <td>0</td>\n",
              "      <td>8.764053</td>\n",
              "    </tr>\n",
              "    <tr>\n",
              "      <th>110</th>\n",
              "      <td>0.561118</td>\n",
              "      <td>0</td>\n",
              "      <td>8.328451</td>\n",
              "    </tr>\n",
              "  </tbody>\n",
              "</table>\n",
              "<p>111 rows × 3 columns</p>\n",
              "</div>"
            ],
            "text/plain": [
              "     LogPrice  Stormy  LogQuantity\n",
              "0   -0.430783       1     8.994421\n",
              "1    0.000000       1     7.707063\n",
              "2    0.072321       0     8.350194\n",
              "3    0.247139       1     8.656955\n",
              "4    0.664327       1     7.844241\n",
              "..        ...     ...          ...\n",
              "106 -0.798508       0     8.610683\n",
              "107 -0.087011       0     7.162397\n",
              "108  0.184922       0     7.362010\n",
              "109  0.223143       0     8.764053\n",
              "110  0.561118       0     8.328451\n",
              "\n",
              "[111 rows x 3 columns]"
            ]
          },
          "execution_count": 65,
          "metadata": {},
          "output_type": "execute_result"
        }
      ],
      "source": [
        "mercado_peixe = pd.read_excel('mercado_peixe.xlsx')\n",
        "mercado_peixe"
      ]
    },
    {
      "cell_type": "markdown",
      "metadata": {},
      "source": [
        "## a) "
      ]
    },
    {
      "cell_type": "markdown",
      "metadata": {},
      "source": [
        "Apenas a curva de demanda pode ser estimada. Isso porque apenas a curva de oferta possui uma variável exógena (Stormy), além da variável endógena (LogPrice), que pode ser utilizada como instrumento para estimar consistentemente a equação de demanda. A curva de demanda, por sua vez, possui apenas a variável endógena (LogPrice), logo, não possui temos um instrumento que pode ser utilizado para estimar a equação de oferta."
      ]
    },
    {
      "cell_type": "markdown",
      "metadata": {},
      "source": [
        "## b)"
      ]
    },
    {
      "cell_type": "markdown",
      "metadata": {},
      "source": [
        "O sistema segue abaixo:\n",
        "\n",
        "$\n",
        "\\begin{cases}\n",
        "log(Q_s) = \\beta_0 + \\alpha_{11}log(price) + \\beta_1stormy + u_1\\\\\n",
        "log(Q_d) = \\beta_0 + \\alpha_{12}log(price) + u_2\n",
        "\\end{cases}\n",
        "$"
      ]
    },
    {
      "cell_type": "markdown",
      "metadata": {},
      "source": [
        "## c)"
      ]
    },
    {
      "cell_type": "code",
      "execution_count": 66,
      "metadata": {},
      "outputs": [
        {
          "name": "stdout",
          "output_type": "stream",
          "text": [
            "                            OLS Regression Results                            \n",
            "==============================================================================\n",
            "Dep. Variable:               LogPrice   R-squared:                       0.160\n",
            "Model:                            OLS   Adj. R-squared:                  0.152\n",
            "Method:                 Least Squares   F-statistic:                     20.69\n",
            "Date:                Fri, 15 Jul 2022   Prob (F-statistic):           1.41e-05\n",
            "Time:                        11:36:19   Log-Likelihood:                -40.516\n",
            "No. Observations:                 111   AIC:                             85.03\n",
            "Df Residuals:                     109   BIC:                             90.45\n",
            "Df Model:                           1                                         \n",
            "Covariance Type:            nonrobust                                         \n",
            "==============================================================================\n",
            "                 coef    std err          t      P>|t|      [0.025      0.975]\n",
            "------------------------------------------------------------------------------\n",
            "Intercept     -0.2903      0.040     -7.336      0.000      -0.369      -0.212\n",
            "Stormy         0.3353      0.074      4.549      0.000       0.189       0.481\n",
            "==============================================================================\n",
            "Omnibus:                        0.924   Durbin-Watson:                   0.634\n",
            "Prob(Omnibus):                  0.630   Jarque-Bera (JB):                1.036\n",
            "Skew:                          -0.188   Prob(JB):                        0.596\n",
            "Kurtosis:                       2.712   Cond. No.                         2.43\n",
            "==============================================================================\n",
            "\n",
            "Notes:\n",
            "[1] Standard Errors assume that the covariance matrix of the errors is correctly specified.\n"
          ]
        }
      ],
      "source": [
        "reg_reduz = smf.ols('LogPrice ~ Stormy', data = mercado_peixe)\n",
        "results_reg_reduz = reg_reduz.fit()\n",
        "print(results_reg_reduz.summary())"
      ]
    },
    {
      "cell_type": "markdown",
      "metadata": {},
      "source": [
        "Com base na nossa regra de bolso, o instrumento Stormy é forte, dado que temos uma estatística |t| = 4.549 > 3.2 e uma estatística |F| = 20.69 > 10. "
      ]
    },
    {
      "cell_type": "markdown",
      "metadata": {},
      "source": [
        "## d)"
      ]
    },
    {
      "cell_type": "code",
      "execution_count": 67,
      "metadata": {},
      "outputs": [],
      "source": [
        "import linearmodels.iv as iv"
      ]
    },
    {
      "cell_type": "code",
      "execution_count": 68,
      "metadata": {},
      "outputs": [
        {
          "name": "stdout",
          "output_type": "stream",
          "text": [
            "                          IV-2SLS Estimation Summary                          \n",
            "==============================================================================\n",
            "Dep. Variable:            LogQuantity   R-squared:                     -0.0002\n",
            "Estimator:                    IV-2SLS   Adj. R-squared:                -0.0094\n",
            "No. Observations:                 111   F-statistic:                    5.4017\n",
            "Date:                Fri, Jul 15 2022   P-value (F-stat)                0.0220\n",
            "Time:                        11:36:20   Distribution:                 F(1,109)\n",
            "Cov. Estimator:            unadjusted                                         \n",
            "                                                                              \n",
            "                             Parameter Estimates                              \n",
            "==============================================================================\n",
            "            Parameter  Std. Err.     T-stat    P-value    Lower CI    Upper CI\n",
            "------------------------------------------------------------------------------\n",
            "Intercept      8.3138     0.1146     72.532     0.0000      8.0866      8.5410\n",
            "LogPrice      -1.0824     0.4657    -2.3242     0.0220     -2.0054     -0.1594\n",
            "==============================================================================\n",
            "\n",
            "Endogenous: LogPrice\n",
            "Instruments: Stormy\n",
            "Unadjusted Covariance (Homoskedastic)\n",
            "Debiased: True\n"
          ]
        }
      ],
      "source": [
        "reg_demanda_peixe = iv.IV2SLS.from_formula('LogQuantity ~ 1 + [LogPrice ~ Stormy]', data = mercado_peixe)\n",
        "results_reg_demanda_peixe = reg_demanda_peixe.fit(cov_type = 'unadjusted', debiased = True)\n",
        "print(results_reg_demanda_peixe.summary)"
      ]
    },
    {
      "cell_type": "markdown",
      "metadata": {},
      "source": [
        "Com o coeficiente de LogPrice = -1.08, podemos considerar que estamos diante de uma curva de demanda com elasticidade unitária, ou seja, uma varição de 1% no preço, *ceteris paribus*, teremos uma variação no sentido oposto na quantidade demandada. "
      ]
    },
    {
      "cell_type": "markdown",
      "metadata": {},
      "source": [
        "# Questão 6)"
      ]
    },
    {
      "cell_type": "code",
      "execution_count": 69,
      "metadata": {},
      "outputs": [
        {
          "data": {
            "text/html": [
              "<div>\n",
              "<style scoped>\n",
              "    .dataframe tbody tr th:only-of-type {\n",
              "        vertical-align: middle;\n",
              "    }\n",
              "\n",
              "    .dataframe tbody tr th {\n",
              "        vertical-align: top;\n",
              "    }\n",
              "\n",
              "    .dataframe thead th {\n",
              "        text-align: right;\n",
              "    }\n",
              "</style>\n",
              "<table border=\"1\" class=\"dataframe\">\n",
              "  <thead>\n",
              "    <tr style=\"text-align: right;\">\n",
              "      <th></th>\n",
              "      <th>ano</th>\n",
              "      <th>dorm</th>\n",
              "      <th>banho</th>\n",
              "      <th>garag</th>\n",
              "      <th>elev</th>\n",
              "      <th>unid_andar</th>\n",
              "      <th>andares</th>\n",
              "      <th>area_util</th>\n",
              "      <th>preco</th>\n",
              "      <th>tratado</th>\n",
              "    </tr>\n",
              "  </thead>\n",
              "  <tbody>\n",
              "    <tr>\n",
              "      <th>0</th>\n",
              "      <td>1985</td>\n",
              "      <td>4</td>\n",
              "      <td>3</td>\n",
              "      <td>3</td>\n",
              "      <td>2</td>\n",
              "      <td>1</td>\n",
              "      <td>17</td>\n",
              "      <td>277</td>\n",
              "      <td>368480</td>\n",
              "      <td>1</td>\n",
              "    </tr>\n",
              "    <tr>\n",
              "      <th>1</th>\n",
              "      <td>1985</td>\n",
              "      <td>4</td>\n",
              "      <td>3</td>\n",
              "      <td>3</td>\n",
              "      <td>2</td>\n",
              "      <td>1</td>\n",
              "      <td>21</td>\n",
              "      <td>248</td>\n",
              "      <td>382220</td>\n",
              "      <td>1</td>\n",
              "    </tr>\n",
              "    <tr>\n",
              "      <th>2</th>\n",
              "      <td>1985</td>\n",
              "      <td>4</td>\n",
              "      <td>4</td>\n",
              "      <td>4</td>\n",
              "      <td>2</td>\n",
              "      <td>1</td>\n",
              "      <td>17</td>\n",
              "      <td>245</td>\n",
              "      <td>534000</td>\n",
              "      <td>1</td>\n",
              "    </tr>\n",
              "    <tr>\n",
              "      <th>3</th>\n",
              "      <td>1985</td>\n",
              "      <td>4</td>\n",
              "      <td>2</td>\n",
              "      <td>2</td>\n",
              "      <td>3</td>\n",
              "      <td>4</td>\n",
              "      <td>15</td>\n",
              "      <td>113</td>\n",
              "      <td>214930</td>\n",
              "      <td>1</td>\n",
              "    </tr>\n",
              "    <tr>\n",
              "      <th>4</th>\n",
              "      <td>1985</td>\n",
              "      <td>2</td>\n",
              "      <td>1</td>\n",
              "      <td>1</td>\n",
              "      <td>2</td>\n",
              "      <td>4</td>\n",
              "      <td>13</td>\n",
              "      <td>81</td>\n",
              "      <td>127410</td>\n",
              "      <td>1</td>\n",
              "    </tr>\n",
              "    <tr>\n",
              "      <th>...</th>\n",
              "      <td>...</td>\n",
              "      <td>...</td>\n",
              "      <td>...</td>\n",
              "      <td>...</td>\n",
              "      <td>...</td>\n",
              "      <td>...</td>\n",
              "      <td>...</td>\n",
              "      <td>...</td>\n",
              "      <td>...</td>\n",
              "      <td>...</td>\n",
              "    </tr>\n",
              "    <tr>\n",
              "      <th>2509</th>\n",
              "      <td>1991</td>\n",
              "      <td>2</td>\n",
              "      <td>1</td>\n",
              "      <td>1</td>\n",
              "      <td>12</td>\n",
              "      <td>4</td>\n",
              "      <td>12</td>\n",
              "      <td>50</td>\n",
              "      <td>125370</td>\n",
              "      <td>0</td>\n",
              "    </tr>\n",
              "    <tr>\n",
              "      <th>2510</th>\n",
              "      <td>1991</td>\n",
              "      <td>3</td>\n",
              "      <td>1</td>\n",
              "      <td>1</td>\n",
              "      <td>2</td>\n",
              "      <td>4</td>\n",
              "      <td>7</td>\n",
              "      <td>54</td>\n",
              "      <td>187770</td>\n",
              "      <td>0</td>\n",
              "    </tr>\n",
              "    <tr>\n",
              "      <th>2511</th>\n",
              "      <td>1991</td>\n",
              "      <td>2</td>\n",
              "      <td>1</td>\n",
              "      <td>1</td>\n",
              "      <td>2</td>\n",
              "      <td>8</td>\n",
              "      <td>8</td>\n",
              "      <td>43</td>\n",
              "      <td>141040</td>\n",
              "      <td>0</td>\n",
              "    </tr>\n",
              "    <tr>\n",
              "      <th>2512</th>\n",
              "      <td>1991</td>\n",
              "      <td>2</td>\n",
              "      <td>1</td>\n",
              "      <td>1</td>\n",
              "      <td>2</td>\n",
              "      <td>4</td>\n",
              "      <td>9</td>\n",
              "      <td>56</td>\n",
              "      <td>139390</td>\n",
              "      <td>0</td>\n",
              "    </tr>\n",
              "    <tr>\n",
              "      <th>2513</th>\n",
              "      <td>1991</td>\n",
              "      <td>2</td>\n",
              "      <td>1</td>\n",
              "      <td>1</td>\n",
              "      <td>3</td>\n",
              "      <td>8</td>\n",
              "      <td>15</td>\n",
              "      <td>50</td>\n",
              "      <td>132360</td>\n",
              "      <td>0</td>\n",
              "    </tr>\n",
              "  </tbody>\n",
              "</table>\n",
              "<p>2514 rows × 10 columns</p>\n",
              "</div>"
            ],
            "text/plain": [
              "       ano  dorm  banho  garag  elev  unid_andar  andares  area_util   preco  \\\n",
              "0     1985     4      3      3     2           1       17        277  368480   \n",
              "1     1985     4      3      3     2           1       21        248  382220   \n",
              "2     1985     4      4      4     2           1       17        245  534000   \n",
              "3     1985     4      2      2     3           4       15        113  214930   \n",
              "4     1985     2      1      1     2           4       13         81  127410   \n",
              "...    ...   ...    ...    ...   ...         ...      ...        ...     ...   \n",
              "2509  1991     2      1      1    12           4       12         50  125370   \n",
              "2510  1991     3      1      1     2           4        7         54  187770   \n",
              "2511  1991     2      1      1     2           8        8         43  141040   \n",
              "2512  1991     2      1      1     2           4        9         56  139390   \n",
              "2513  1991     2      1      1     3           8       15         50  132360   \n",
              "\n",
              "      tratado  \n",
              "0           1  \n",
              "1           1  \n",
              "2           1  \n",
              "3           1  \n",
              "4           1  \n",
              "...       ...  \n",
              "2509        0  \n",
              "2510        0  \n",
              "2511        0  \n",
              "2512        0  \n",
              "2513        0  \n",
              "\n",
              "[2514 rows x 10 columns]"
            ]
          },
          "execution_count": 69,
          "metadata": {},
          "output_type": "execute_result"
        }
      ],
      "source": [
        "imoveis = pd.read_csv('imoveis.csv', sep = ';')\n",
        "imoveis"
      ]
    },
    {
      "cell_type": "markdown",
      "metadata": {},
      "source": [
        "Criando as dummies para os anos pré e pós tratamento e a coluna de interação entre as variáveis dos anos de pré e pós tratamento com a variável dummy para tratados:"
      ]
    },
    {
      "cell_type": "code",
      "execution_count": 70,
      "metadata": {},
      "outputs": [
        {
          "data": {
            "text/html": [
              "<div>\n",
              "<style scoped>\n",
              "    .dataframe tbody tr th:only-of-type {\n",
              "        vertical-align: middle;\n",
              "    }\n",
              "\n",
              "    .dataframe tbody tr th {\n",
              "        vertical-align: top;\n",
              "    }\n",
              "\n",
              "    .dataframe thead th {\n",
              "        text-align: right;\n",
              "    }\n",
              "</style>\n",
              "<table border=\"1\" class=\"dataframe\">\n",
              "  <thead>\n",
              "    <tr style=\"text-align: right;\">\n",
              "      <th></th>\n",
              "      <th>ano</th>\n",
              "      <th>dorm</th>\n",
              "      <th>banho</th>\n",
              "      <th>garag</th>\n",
              "      <th>elev</th>\n",
              "      <th>unid_andar</th>\n",
              "      <th>andares</th>\n",
              "      <th>area_util</th>\n",
              "      <th>preco</th>\n",
              "      <th>tratado</th>\n",
              "      <th>ano_tratamento</th>\n",
              "      <th>ano_tratamento_tratado</th>\n",
              "    </tr>\n",
              "  </thead>\n",
              "  <tbody>\n",
              "    <tr>\n",
              "      <th>0</th>\n",
              "      <td>1985</td>\n",
              "      <td>4</td>\n",
              "      <td>3</td>\n",
              "      <td>3</td>\n",
              "      <td>2</td>\n",
              "      <td>1</td>\n",
              "      <td>17</td>\n",
              "      <td>277</td>\n",
              "      <td>368480</td>\n",
              "      <td>1</td>\n",
              "      <td>0</td>\n",
              "      <td>0</td>\n",
              "    </tr>\n",
              "    <tr>\n",
              "      <th>1</th>\n",
              "      <td>1985</td>\n",
              "      <td>4</td>\n",
              "      <td>3</td>\n",
              "      <td>3</td>\n",
              "      <td>2</td>\n",
              "      <td>1</td>\n",
              "      <td>21</td>\n",
              "      <td>248</td>\n",
              "      <td>382220</td>\n",
              "      <td>1</td>\n",
              "      <td>0</td>\n",
              "      <td>0</td>\n",
              "    </tr>\n",
              "    <tr>\n",
              "      <th>2</th>\n",
              "      <td>1985</td>\n",
              "      <td>4</td>\n",
              "      <td>4</td>\n",
              "      <td>4</td>\n",
              "      <td>2</td>\n",
              "      <td>1</td>\n",
              "      <td>17</td>\n",
              "      <td>245</td>\n",
              "      <td>534000</td>\n",
              "      <td>1</td>\n",
              "      <td>0</td>\n",
              "      <td>0</td>\n",
              "    </tr>\n",
              "    <tr>\n",
              "      <th>3</th>\n",
              "      <td>1985</td>\n",
              "      <td>4</td>\n",
              "      <td>2</td>\n",
              "      <td>2</td>\n",
              "      <td>3</td>\n",
              "      <td>4</td>\n",
              "      <td>15</td>\n",
              "      <td>113</td>\n",
              "      <td>214930</td>\n",
              "      <td>1</td>\n",
              "      <td>0</td>\n",
              "      <td>0</td>\n",
              "    </tr>\n",
              "    <tr>\n",
              "      <th>4</th>\n",
              "      <td>1985</td>\n",
              "      <td>2</td>\n",
              "      <td>1</td>\n",
              "      <td>1</td>\n",
              "      <td>2</td>\n",
              "      <td>4</td>\n",
              "      <td>13</td>\n",
              "      <td>81</td>\n",
              "      <td>127410</td>\n",
              "      <td>1</td>\n",
              "      <td>0</td>\n",
              "      <td>0</td>\n",
              "    </tr>\n",
              "    <tr>\n",
              "      <th>...</th>\n",
              "      <td>...</td>\n",
              "      <td>...</td>\n",
              "      <td>...</td>\n",
              "      <td>...</td>\n",
              "      <td>...</td>\n",
              "      <td>...</td>\n",
              "      <td>...</td>\n",
              "      <td>...</td>\n",
              "      <td>...</td>\n",
              "      <td>...</td>\n",
              "      <td>...</td>\n",
              "      <td>...</td>\n",
              "    </tr>\n",
              "    <tr>\n",
              "      <th>2509</th>\n",
              "      <td>1991</td>\n",
              "      <td>2</td>\n",
              "      <td>1</td>\n",
              "      <td>1</td>\n",
              "      <td>12</td>\n",
              "      <td>4</td>\n",
              "      <td>12</td>\n",
              "      <td>50</td>\n",
              "      <td>125370</td>\n",
              "      <td>0</td>\n",
              "      <td>1</td>\n",
              "      <td>0</td>\n",
              "    </tr>\n",
              "    <tr>\n",
              "      <th>2510</th>\n",
              "      <td>1991</td>\n",
              "      <td>3</td>\n",
              "      <td>1</td>\n",
              "      <td>1</td>\n",
              "      <td>2</td>\n",
              "      <td>4</td>\n",
              "      <td>7</td>\n",
              "      <td>54</td>\n",
              "      <td>187770</td>\n",
              "      <td>0</td>\n",
              "      <td>1</td>\n",
              "      <td>0</td>\n",
              "    </tr>\n",
              "    <tr>\n",
              "      <th>2511</th>\n",
              "      <td>1991</td>\n",
              "      <td>2</td>\n",
              "      <td>1</td>\n",
              "      <td>1</td>\n",
              "      <td>2</td>\n",
              "      <td>8</td>\n",
              "      <td>8</td>\n",
              "      <td>43</td>\n",
              "      <td>141040</td>\n",
              "      <td>0</td>\n",
              "      <td>1</td>\n",
              "      <td>0</td>\n",
              "    </tr>\n",
              "    <tr>\n",
              "      <th>2512</th>\n",
              "      <td>1991</td>\n",
              "      <td>2</td>\n",
              "      <td>1</td>\n",
              "      <td>1</td>\n",
              "      <td>2</td>\n",
              "      <td>4</td>\n",
              "      <td>9</td>\n",
              "      <td>56</td>\n",
              "      <td>139390</td>\n",
              "      <td>0</td>\n",
              "      <td>1</td>\n",
              "      <td>0</td>\n",
              "    </tr>\n",
              "    <tr>\n",
              "      <th>2513</th>\n",
              "      <td>1991</td>\n",
              "      <td>2</td>\n",
              "      <td>1</td>\n",
              "      <td>1</td>\n",
              "      <td>3</td>\n",
              "      <td>8</td>\n",
              "      <td>15</td>\n",
              "      <td>50</td>\n",
              "      <td>132360</td>\n",
              "      <td>0</td>\n",
              "      <td>1</td>\n",
              "      <td>0</td>\n",
              "    </tr>\n",
              "  </tbody>\n",
              "</table>\n",
              "<p>2514 rows × 12 columns</p>\n",
              "</div>"
            ],
            "text/plain": [
              "       ano  dorm  banho  garag  elev  unid_andar  andares  area_util   preco  \\\n",
              "0     1985     4      3      3     2           1       17        277  368480   \n",
              "1     1985     4      3      3     2           1       21        248  382220   \n",
              "2     1985     4      4      4     2           1       17        245  534000   \n",
              "3     1985     4      2      2     3           4       15        113  214930   \n",
              "4     1985     2      1      1     2           4       13         81  127410   \n",
              "...    ...   ...    ...    ...   ...         ...      ...        ...     ...   \n",
              "2509  1991     2      1      1    12           4       12         50  125370   \n",
              "2510  1991     3      1      1     2           4        7         54  187770   \n",
              "2511  1991     2      1      1     2           8        8         43  141040   \n",
              "2512  1991     2      1      1     2           4        9         56  139390   \n",
              "2513  1991     2      1      1     3           8       15         50  132360   \n",
              "\n",
              "      tratado  ano_tratamento  ano_tratamento_tratado  \n",
              "0           1               0                       0  \n",
              "1           1               0                       0  \n",
              "2           1               0                       0  \n",
              "3           1               0                       0  \n",
              "4           1               0                       0  \n",
              "...       ...             ...                     ...  \n",
              "2509        0               1                       0  \n",
              "2510        0               1                       0  \n",
              "2511        0               1                       0  \n",
              "2512        0               1                       0  \n",
              "2513        0               1                       0  \n",
              "\n",
              "[2514 rows x 12 columns]"
            ]
          },
          "execution_count": 70,
          "metadata": {},
          "output_type": "execute_result"
        }
      ],
      "source": [
        "# (I) Criando a variável ano para os períodos pré e pós-tratamento\n",
        "\n",
        "conditions = [\n",
        "    (imoveis['ano'] <= 1988),\n",
        "    (imoveis['ano'] > 1988)]\n",
        "\n",
        "choices = [0, 1]\n",
        "imoveis['ano_tratamento'] = np.select(conditions, choices)\n",
        "\n",
        "# (II) Criando a variável de interação\n",
        "\n",
        "imoveis['ano_tratamento_tratado'] = imoveis['ano_tratamento'] * imoveis['tratado'] \n",
        "imoveis"
      ]
    },
    {
      "cell_type": "markdown",
      "metadata": {},
      "source": [
        "## a) "
      ]
    },
    {
      "cell_type": "code",
      "execution_count": 71,
      "metadata": {},
      "outputs": [
        {
          "name": "stdout",
          "output_type": "stream",
          "text": [
            "                            OLS Regression Results                            \n",
            "==============================================================================\n",
            "Dep. Variable:                  preco   R-squared:                       0.004\n",
            "Model:                            OLS   Adj. R-squared:                  0.003\n",
            "Method:                 Least Squares   F-statistic:                     3.308\n",
            "Date:                Fri, 15 Jul 2022   Prob (F-statistic):             0.0194\n",
            "Time:                        11:36:21   Log-Likelihood:                -36178.\n",
            "No. Observations:                2514   AIC:                         7.236e+04\n",
            "Df Residuals:                    2510   BIC:                         7.239e+04\n",
            "Df Model:                           3                                         \n",
            "Covariance Type:            nonrobust                                         \n",
            "==========================================================================================\n",
            "                             coef    std err          t      P>|t|      [0.025      0.975]\n",
            "------------------------------------------------------------------------------------------\n",
            "Intercept               4.169e+05   1.13e+04     36.779      0.000    3.95e+05    4.39e+05\n",
            "tratado                -3.012e+04   2.87e+04     -1.049      0.294   -8.64e+04    2.62e+04\n",
            "ano_tratamento          -1.27e+04   1.98e+04     -0.641      0.521   -5.15e+04    2.61e+04\n",
            "ano_tratamento_tratado  1.632e+05   5.37e+04      3.037      0.002    5.78e+04    2.69e+05\n",
            "==============================================================================\n",
            "Omnibus:                     2308.097   Durbin-Watson:                   1.638\n",
            "Prob(Omnibus):                  0.000   Jarque-Bera (JB):           114365.867\n",
            "Skew:                           4.245   Prob(JB):                         0.00\n",
            "Kurtosis:                      34.933   Cond. No.                         7.13\n",
            "==============================================================================\n",
            "\n",
            "Notes:\n",
            "[1] Standard Errors assume that the covariance matrix of the errors is correctly specified.\n",
            "\n",
            "Parâmetro Diff-in-Diff:\n",
            " 163176.47\n"
          ]
        }
      ],
      "source": [
        "reg_did_imoveis = smf.ols('preco ~ tratado + ano_tratamento + ano_tratamento_tratado', \n",
        "                           data = imoveis)\n",
        "results_reg_did_imoveis = reg_did_imoveis.fit()\n",
        "print(results_reg_did_imoveis.summary())\n",
        "print('\\nParâmetro Diff-in-Diff:\\n', round(results_reg_did_imoveis.params[3], 2))        "
      ]
    },
    {
      "cell_type": "markdown",
      "metadata": {},
      "source": [
        "Em um modelo simples, considerando apenas os anos como variáveis explicativas para avaliar o impacto da construção do metro nos preços dos imóveis antes de depois da construção, temos que um imóvel na área tratada teve seu preço valorizado em R$ 163,176.47 em média. Ou seja, o impacto da construção do metrô foi positivo em relação aos preços dos imóveis."
      ]
    },
    {
      "cell_type": "markdown",
      "metadata": {},
      "source": [
        "## b)"
      ]
    },
    {
      "cell_type": "code",
      "execution_count": 72,
      "metadata": {},
      "outputs": [
        {
          "name": "stdout",
          "output_type": "stream",
          "text": [
            "                            OLS Regression Results                            \n",
            "==============================================================================\n",
            "Dep. Variable:                  preco   R-squared:                       0.653\n",
            "Model:                            OLS   Adj. R-squared:                  0.652\n",
            "Method:                 Least Squares   F-statistic:                     472.0\n",
            "Date:                Fri, 15 Jul 2022   Prob (F-statistic):               0.00\n",
            "Time:                        11:36:21   Log-Likelihood:                -34851.\n",
            "No. Observations:                2514   AIC:                         6.972e+04\n",
            "Df Residuals:                    2503   BIC:                         6.979e+04\n",
            "Df Model:                          10                                         \n",
            "Covariance Type:            nonrobust                                         \n",
            "==========================================================================================\n",
            "                             coef    std err          t      P>|t|      [0.025      0.975]\n",
            "------------------------------------------------------------------------------------------\n",
            "Intercept              -1.204e+05   3.18e+04     -3.790      0.000   -1.83e+05   -5.81e+04\n",
            "dorm                   -5.075e+04   1.01e+04     -5.006      0.000   -7.06e+04   -3.09e+04\n",
            "banho                   2.792e+04   1.21e+04      2.309      0.021    4209.853    5.16e+04\n",
            "garag                   4.949e+04   1.21e+04      4.087      0.000    2.57e+04    7.32e+04\n",
            "elev                   -2199.8790   2997.419     -0.734      0.463   -8077.554    3677.796\n",
            "unid_andar              8946.9905   3449.698      2.594      0.010    2182.436    1.57e+04\n",
            "andares                 2219.2719   1043.413      2.127      0.034     173.231    4265.313\n",
            "area_util               3685.6020    139.214     26.474      0.000    3412.615    3958.589\n",
            "tratado                 1.865e+04   1.71e+04      1.091      0.275   -1.49e+04    5.22e+04\n",
            "ano_tratamento           7.62e+04   1.19e+04      6.404      0.000    5.29e+04    9.95e+04\n",
            "ano_tratamento_tratado  8.476e+04   3.18e+04      2.667      0.008    2.24e+04    1.47e+05\n",
            "==============================================================================\n",
            "Omnibus:                     2649.026   Durbin-Watson:                   1.552\n",
            "Prob(Omnibus):                  0.000   Jarque-Bera (JB):           399468.765\n",
            "Skew:                           4.876   Prob(JB):                         0.00\n",
            "Kurtosis:                      63.979   Cond. No.                     1.01e+03\n",
            "==============================================================================\n",
            "\n",
            "Notes:\n",
            "[1] Standard Errors assume that the covariance matrix of the errors is correctly specified.\n",
            "[2] The condition number is large, 1.01e+03. This might indicate that there are\n",
            "strong multicollinearity or other numerical problems.\n",
            "\n",
            "Parâmetro Diff-in-Diff:\n",
            " 84759.63\n"
          ]
        }
      ],
      "source": [
        "reg_did_imoveis_controls = smf.ols('preco ~ dorm + banho + garag + elev + unid_andar + andares +' \n",
        "                                    'area_util + tratado + ano_tratamento + ano_tratamento_tratado', \n",
        "                                    data = imoveis)\n",
        "results_reg_did_imoveis_controls = reg_did_imoveis_controls.fit()\n",
        "print(results_reg_did_imoveis_controls.summary())\n",
        "print('\\nParâmetro Diff-in-Diff:\\n', round(results_reg_did_imoveis_controls.params[10], 2))"
      ]
    },
    {
      "cell_type": "markdown",
      "metadata": {},
      "source": [
        "Ao incluirmos as demais variáveis de controle do banco de dados, podemos reparar que o parâmetro de Diferenças em Diferenças estimado muda de valor, reduzindo-se. Ao aplicar os testes estatísticos, podemos ver que individualmente, exceto as variáveis *tratado* e *elev*, todas as variáveis do modelo são estatísticamente significantes ao nível de siginificância de 5%, a partir do teste t e conferindo os p-valores. Do ponto de vista conjunto, por meio do teste F, temos que todos os parâmetros são significativos.\n",
        "\n",
        "Assim, podemos visualizar que com os controles, o impacto da construção do metro nos preços dos imóveis em regiões próximas (tratados) foi de uma valorização, em termos de preço, de R$ 84,759.63."
      ]
    },
    {
      "cell_type": "code",
      "execution_count": null,
      "metadata": {},
      "outputs": [],
      "source": []
    }
  ],
  "metadata": {
    "colab": {
      "name": "lista-1_econometria-2.ipynb",
      "provenance": []
    },
    "kernelspec": {
      "display_name": "Python 3.9.10 64-bit (windows store)",
      "language": "python",
      "name": "python3"
    },
    "language_info": {
      "codemirror_mode": {
        "name": "ipython",
        "version": 3
      },
      "file_extension": ".py",
      "mimetype": "text/x-python",
      "name": "python",
      "nbconvert_exporter": "python",
      "pygments_lexer": "ipython3",
      "version": "3.9.13"
    },
    "orig_nbformat": 4,
    "vscode": {
      "interpreter": {
        "hash": "50b6e48135b3aa07383f5a96ff512fd2c607c6638df435f7ef5dee28b012c53c"
      }
    }
  },
  "nbformat": 4,
  "nbformat_minor": 0
}
